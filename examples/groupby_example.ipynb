{
 "cells": [
  {
   "cell_type": "markdown",
   "metadata": {},
   "source": [
    "# GroupBy examples\n",
    "\n",
    "Allen Downey\n",
    "\n",
    "[MIT License](https://en.wikipedia.org/wiki/MIT_License)"
   ]
  },
  {
   "cell_type": "code",
   "execution_count": 2,
   "metadata": {},
   "outputs": [],
   "source": [
    "%matplotlib inline\n",
    "\n",
    "import pandas as pd\n",
    "import numpy as np\n",
    "\n",
    "import matplotlib.pyplot as plt\n",
    "import seaborn as sns\n",
    "sns.set(style='white')\n",
    "\n",
    "from thinkstats2 import Pmf, Cdf\n",
    "\n",
    "import thinkstats2\n",
    "import thinkplot\n",
    "\n",
    "decorate = thinkplot.config"
   ]
  },
  {
   "cell_type": "markdown",
   "metadata": {},
   "source": [
    "Let's load the GSS dataset."
   ]
  },
  {
   "cell_type": "code",
   "execution_count": 3,
   "metadata": {},
   "outputs": [
    {
     "name": "stdout",
     "output_type": "stream",
     "text": [
      "CPU times: user 20.4 ms, sys: 63.1 ms, total: 83.5 ms\n",
      "Wall time: 151 ms\n"
     ]
    },
    {
     "data": {
      "text/html": [
       "<div>\n",
       "<style>\n",
       "    .dataframe thead tr:only-child th {\n",
       "        text-align: right;\n",
       "    }\n",
       "\n",
       "    .dataframe thead th {\n",
       "        text-align: left;\n",
       "    }\n",
       "\n",
       "    .dataframe tbody tr th {\n",
       "        vertical-align: top;\n",
       "    }\n",
       "</style>\n",
       "<table border=\"1\" class=\"dataframe\">\n",
       "  <thead>\n",
       "    <tr style=\"text-align: right;\">\n",
       "      <th></th>\n",
       "      <th>year</th>\n",
       "      <th>id_</th>\n",
       "      <th>agewed</th>\n",
       "      <th>divorce</th>\n",
       "      <th>sibs</th>\n",
       "      <th>childs</th>\n",
       "      <th>age</th>\n",
       "      <th>educ</th>\n",
       "      <th>paeduc</th>\n",
       "      <th>maeduc</th>\n",
       "      <th>...</th>\n",
       "      <th>memchurh</th>\n",
       "      <th>realinc</th>\n",
       "      <th>cohort</th>\n",
       "      <th>marcohrt</th>\n",
       "      <th>ballot</th>\n",
       "      <th>wtssall</th>\n",
       "      <th>adults</th>\n",
       "      <th>compuse</th>\n",
       "      <th>databank</th>\n",
       "      <th>wtssnr</th>\n",
       "    </tr>\n",
       "  </thead>\n",
       "  <tbody>\n",
       "    <tr>\n",
       "      <th>0</th>\n",
       "      <td>1972</td>\n",
       "      <td>167</td>\n",
       "      <td>0</td>\n",
       "      <td>0</td>\n",
       "      <td>2</td>\n",
       "      <td>0</td>\n",
       "      <td>26.0</td>\n",
       "      <td>18.0</td>\n",
       "      <td>12</td>\n",
       "      <td>12</td>\n",
       "      <td>...</td>\n",
       "      <td>0</td>\n",
       "      <td>13537.0</td>\n",
       "      <td>1946.0</td>\n",
       "      <td>0</td>\n",
       "      <td>0</td>\n",
       "      <td>0.8893</td>\n",
       "      <td>2.0</td>\n",
       "      <td>0</td>\n",
       "      <td>0</td>\n",
       "      <td>1.0</td>\n",
       "    </tr>\n",
       "    <tr>\n",
       "      <th>1</th>\n",
       "      <td>1972</td>\n",
       "      <td>1256</td>\n",
       "      <td>30</td>\n",
       "      <td>2</td>\n",
       "      <td>0</td>\n",
       "      <td>1</td>\n",
       "      <td>38.0</td>\n",
       "      <td>12.0</td>\n",
       "      <td>97</td>\n",
       "      <td>99</td>\n",
       "      <td>...</td>\n",
       "      <td>0</td>\n",
       "      <td>18951.0</td>\n",
       "      <td>1934.0</td>\n",
       "      <td>1964</td>\n",
       "      <td>0</td>\n",
       "      <td>0.4446</td>\n",
       "      <td>1.0</td>\n",
       "      <td>0</td>\n",
       "      <td>0</td>\n",
       "      <td>1.0</td>\n",
       "    </tr>\n",
       "    <tr>\n",
       "      <th>2</th>\n",
       "      <td>1972</td>\n",
       "      <td>415</td>\n",
       "      <td>0</td>\n",
       "      <td>0</td>\n",
       "      <td>7</td>\n",
       "      <td>0</td>\n",
       "      <td>57.0</td>\n",
       "      <td>12.0</td>\n",
       "      <td>7</td>\n",
       "      <td>7</td>\n",
       "      <td>...</td>\n",
       "      <td>0</td>\n",
       "      <td>30458.0</td>\n",
       "      <td>1915.0</td>\n",
       "      <td>0</td>\n",
       "      <td>0</td>\n",
       "      <td>1.3339</td>\n",
       "      <td>3.0</td>\n",
       "      <td>0</td>\n",
       "      <td>0</td>\n",
       "      <td>1.0</td>\n",
       "    </tr>\n",
       "    <tr>\n",
       "      <th>3</th>\n",
       "      <td>1972</td>\n",
       "      <td>234</td>\n",
       "      <td>18</td>\n",
       "      <td>1</td>\n",
       "      <td>6</td>\n",
       "      <td>3</td>\n",
       "      <td>61.0</td>\n",
       "      <td>14.0</td>\n",
       "      <td>8</td>\n",
       "      <td>5</td>\n",
       "      <td>...</td>\n",
       "      <td>0</td>\n",
       "      <td>37226.0</td>\n",
       "      <td>1911.0</td>\n",
       "      <td>1929</td>\n",
       "      <td>0</td>\n",
       "      <td>0.8893</td>\n",
       "      <td>2.0</td>\n",
       "      <td>0</td>\n",
       "      <td>0</td>\n",
       "      <td>1.0</td>\n",
       "    </tr>\n",
       "    <tr>\n",
       "      <th>4</th>\n",
       "      <td>1972</td>\n",
       "      <td>554</td>\n",
       "      <td>22</td>\n",
       "      <td>2</td>\n",
       "      <td>3</td>\n",
       "      <td>3</td>\n",
       "      <td>59.0</td>\n",
       "      <td>12.0</td>\n",
       "      <td>6</td>\n",
       "      <td>11</td>\n",
       "      <td>...</td>\n",
       "      <td>0</td>\n",
       "      <td>30458.0</td>\n",
       "      <td>1913.0</td>\n",
       "      <td>1935</td>\n",
       "      <td>0</td>\n",
       "      <td>0.8893</td>\n",
       "      <td>2.0</td>\n",
       "      <td>0</td>\n",
       "      <td>0</td>\n",
       "      <td>1.0</td>\n",
       "    </tr>\n",
       "  </tbody>\n",
       "</table>\n",
       "<p>5 rows × 101 columns</p>\n",
       "</div>"
      ],
      "text/plain": [
       "   year   id_  agewed  divorce  sibs  childs   age  educ  paeduc  maeduc  \\\n",
       "0  1972   167       0        0     2       0  26.0  18.0      12      12   \n",
       "1  1972  1256      30        2     0       1  38.0  12.0      97      99   \n",
       "2  1972   415       0        0     7       0  57.0  12.0       7       7   \n",
       "3  1972   234      18        1     6       3  61.0  14.0       8       5   \n",
       "4  1972   554      22        2     3       3  59.0  12.0       6      11   \n",
       "\n",
       "    ...    memchurh  realinc  cohort  marcohrt  ballot  wtssall  adults  \\\n",
       "0   ...           0  13537.0  1946.0         0       0   0.8893     2.0   \n",
       "1   ...           0  18951.0  1934.0      1964       0   0.4446     1.0   \n",
       "2   ...           0  30458.0  1915.0         0       0   1.3339     3.0   \n",
       "3   ...           0  37226.0  1911.0      1929       0   0.8893     2.0   \n",
       "4   ...           0  30458.0  1913.0      1935       0   0.8893     2.0   \n",
       "\n",
       "   compuse  databank  wtssnr  \n",
       "0        0         0     1.0  \n",
       "1        0         0     1.0  \n",
       "2        0         0     1.0  \n",
       "3        0         0     1.0  \n",
       "4        0         0     1.0  \n",
       "\n",
       "[5 rows x 101 columns]"
      ]
     },
     "execution_count": 3,
     "metadata": {},
     "output_type": "execute_result"
    }
   ],
   "source": [
    "%time gss = pd.read_hdf('../homeworks/gss.hdf5', 'gss')\n",
    "gss.head()"
   ]
  },
  {
   "cell_type": "code",
   "execution_count": 4,
   "metadata": {
    "collapsed": true
   },
   "outputs": [],
   "source": [
    "def counts(series):\n",
    "    return series.value_counts(sort=False).sort_index()"
   ]
  },
  {
   "cell_type": "markdown",
   "metadata": {},
   "source": [
    "The GSS interviews a few thousand respondents each year."
   ]
  },
  {
   "cell_type": "code",
   "execution_count": 5,
   "metadata": {},
   "outputs": [
    {
     "data": {
      "text/plain": [
       "1972    1613\n",
       "1973    1504\n",
       "1974    1484\n",
       "1975    1490\n",
       "1976    1499\n",
       "1977    1530\n",
       "1978    1532\n",
       "1980    1468\n",
       "1982    1860\n",
       "1983    1599\n",
       "1984    1473\n",
       "1985    1534\n",
       "1986    1470\n",
       "1987    1819\n",
       "1988    1481\n",
       "1989    1537\n",
       "1990    1372\n",
       "1991    1517\n",
       "1993    1606\n",
       "1994    2992\n",
       "1996    2904\n",
       "1998    2832\n",
       "2000    2817\n",
       "2002    2765\n",
       "2004    2812\n",
       "2006    4510\n",
       "2008    2023\n",
       "2010    2044\n",
       "2012    1974\n",
       "2014    2538\n",
       "2016    2867\n",
       "Name: year, dtype: int64"
      ]
     },
     "execution_count": 5,
     "metadata": {},
     "output_type": "execute_result"
    }
   ],
   "source": [
    "counts(gss['year'])"
   ]
  },
  {
   "cell_type": "markdown",
   "metadata": {},
   "source": [
    "One of the [questions](https://gssdataexplorer.norc.org/projects/52787/variables/285/vshow) they ask is \"Do you think the use of marijuana should be made legal or not?\"\n",
    "\n",
    "The answer codes are:\n",
    "\n",
    "```\n",
    "1\tLegal\n",
    "2\tNot legal\n",
    "8\tDon't know\n",
    "9\tNo answer\n",
    "0\tNot applicable\n",
    "```\n",
    "\n",
    "Here is the distribution of responses for all years."
   ]
  },
  {
   "cell_type": "code",
   "execution_count": 6,
   "metadata": {},
   "outputs": [
    {
     "data": {
      "text/plain": [
       "0    24398\n",
       "1    11027\n",
       "2    25195\n",
       "8     1733\n",
       "9      113\n",
       "Name: grass, dtype: int64"
      ]
     },
     "execution_count": 6,
     "metadata": {},
     "output_type": "execute_result"
    }
   ],
   "source": [
    "counts(gss['grass'])"
   ]
  },
  {
   "cell_type": "markdown",
   "metadata": {},
   "source": [
    "I'll replace \"Don't know\", \"No answer\", and \"Not applicable\" with NaN."
   ]
  },
  {
   "cell_type": "code",
   "execution_count": 7,
   "metadata": {
    "collapsed": true
   },
   "outputs": [],
   "source": [
    "gss['grass'].replace([0,8,9], np.nan, inplace=True)"
   ]
  },
  {
   "cell_type": "markdown",
   "metadata": {},
   "source": [
    "And replace `2`, which represents \"No\", with `1`.  That way we can use `mean` to compute the fraction in favor."
   ]
  },
  {
   "cell_type": "code",
   "execution_count": 8,
   "metadata": {
    "collapsed": true
   },
   "outputs": [],
   "source": [
    "gss['grass'].replace(2, 0, inplace=True)"
   ]
  },
  {
   "cell_type": "markdown",
   "metadata": {},
   "source": [
    "Here are the value counts after replacement."
   ]
  },
  {
   "cell_type": "code",
   "execution_count": 9,
   "metadata": {},
   "outputs": [
    {
     "data": {
      "text/plain": [
       "0.0    25195\n",
       "1.0    11027\n",
       "Name: grass, dtype: int64"
      ]
     },
     "execution_count": 9,
     "metadata": {},
     "output_type": "execute_result"
    }
   ],
   "source": [
    "counts(gss['grass'])"
   ]
  },
  {
   "cell_type": "markdown",
   "metadata": {},
   "source": [
    "And here's the mean."
   ]
  },
  {
   "cell_type": "code",
   "execution_count": 10,
   "metadata": {},
   "outputs": [
    {
     "data": {
      "text/plain": [
       "0.3044282480260615"
      ]
     },
     "execution_count": 10,
     "metadata": {},
     "output_type": "execute_result"
    }
   ],
   "source": [
    "gss['grass'].mean()"
   ]
  },
  {
   "cell_type": "markdown",
   "metadata": {},
   "source": [
    "So 30% of respondents thought marijuana should be legal, at the time they were interviewed.\n",
    "\n",
    "Now we can see how that fraction depends on age, cohort (year of birth), and period (year of interview).\n",
    "\n",
    "### Group by year\n",
    "\n",
    "First we'll group respondents by year."
   ]
  },
  {
   "cell_type": "code",
   "execution_count": 16,
   "metadata": {},
   "outputs": [
    {
     "data": {
      "text/plain": [
       "<pandas.core.groupby.DataFrameGroupBy object at 0x7fa6221fa4a8>"
      ]
     },
     "execution_count": 16,
     "metadata": {},
     "output_type": "execute_result"
    }
   ],
   "source": [
    "grouped = gss.groupby('year')\n",
    "grouped"
   ]
  },
  {
   "cell_type": "markdown",
   "metadata": {},
   "source": [
    "The result in a `DataFrameGroupBy` object we can iterate through:"
   ]
  },
  {
   "cell_type": "code",
   "execution_count": 17,
   "metadata": {},
   "outputs": [
    {
     "name": "stdout",
     "output_type": "stream",
     "text": [
      "1972 1613\n",
      "1973 1504\n",
      "1974 1484\n",
      "1975 1490\n",
      "1976 1499\n",
      "1977 1530\n",
      "1978 1532\n",
      "1980 1468\n",
      "1982 1860\n",
      "1983 1599\n",
      "1984 1473\n",
      "1985 1534\n",
      "1986 1470\n",
      "1987 1819\n",
      "1988 1481\n",
      "1989 1537\n",
      "1990 1372\n",
      "1991 1517\n",
      "1993 1606\n",
      "1994 2992\n",
      "1996 2904\n",
      "1998 2832\n",
      "2000 2817\n",
      "2002 2765\n",
      "2004 2812\n",
      "2006 4510\n",
      "2008 2023\n",
      "2010 2044\n",
      "2012 1974\n",
      "2014 2538\n",
      "2016 2867\n"
     ]
    }
   ],
   "source": [
    "for name, group in grouped:\n",
    "    print(name, len(group))"
   ]
  },
  {
   "cell_type": "markdown",
   "metadata": {},
   "source": [
    "And we can compute summary statistics for each group."
   ]
  },
  {
   "cell_type": "code",
   "execution_count": 18,
   "metadata": {},
   "outputs": [
    {
     "name": "stdout",
     "output_type": "stream",
     "text": [
      "1972 nan\n",
      "1973 0.20136518771331058\n",
      "1974 nan\n",
      "1975 0.22569198012775019\n",
      "1976 0.29395604395604397\n",
      "1977 nan\n",
      "1978 0.3056501021102791\n",
      "1980 0.2585844428871759\n",
      "1982 nan\n",
      "1983 0.23943661971830985\n",
      "1984 0.2147887323943662\n",
      "1985 nan\n",
      "1986 0.17466945024356298\n",
      "1987 0.15506508205998867\n",
      "1988 0.1705170517051705\n",
      "1989 0.17492416582406473\n",
      "1990 0.15940366972477063\n",
      "1991 0.17775467775467776\n",
      "1993 0.24342745861733203\n",
      "1994 0.24722075172048702\n",
      "1996 0.28713910761154854\n",
      "1998 0.2966589861751152\n",
      "2000 0.3395810363836825\n",
      "2002 0.3403755868544601\n",
      "2004 0.35785536159601\n",
      "2006 0.3435155412647374\n",
      "2008 0.4001597444089457\n",
      "2010 0.4773988897700238\n",
      "2012 0.4835341365461847\n",
      "2014 0.5790147152911068\n",
      "2016 0.5911039657020365\n"
     ]
    }
   ],
   "source": [
    "for name, group in grouped:\n",
    "    print(name, group['grass'].mean())"
   ]
  },
  {
   "cell_type": "markdown",
   "metadata": {},
   "source": [
    "Using a for loop can be useful for debugging, but it is more concise, more idiomatic, and faster to apply operations directly to the `DataFrameGroupBy` object.\n",
    "\n",
    "For example, if you select a column from a `DataFrameGroupBy`, the result is a `SeriesGroupBy` that represents one `Series` for each group."
   ]
  },
  {
   "cell_type": "code",
   "execution_count": 19,
   "metadata": {},
   "outputs": [
    {
     "data": {
      "text/plain": [
       "<pandas.core.groupby.SeriesGroupBy object at 0x7fa61f1a2208>"
      ]
     },
     "execution_count": 19,
     "metadata": {},
     "output_type": "execute_result"
    }
   ],
   "source": [
    "grouped['grass']"
   ]
  },
  {
   "cell_type": "markdown",
   "metadata": {},
   "source": [
    "You can loop through the `SeriesGroupBy`, but you normally don't."
   ]
  },
  {
   "cell_type": "code",
   "execution_count": 20,
   "metadata": {},
   "outputs": [
    {
     "name": "stdout",
     "output_type": "stream",
     "text": [
      "1972 nan\n",
      "1973 0.20136518771331058\n",
      "1974 nan\n",
      "1975 0.22569198012775019\n",
      "1976 0.29395604395604397\n",
      "1977 nan\n",
      "1978 0.3056501021102791\n",
      "1980 0.2585844428871759\n",
      "1982 nan\n",
      "1983 0.23943661971830985\n",
      "1984 0.2147887323943662\n",
      "1985 nan\n",
      "1986 0.17466945024356298\n",
      "1987 0.15506508205998867\n",
      "1988 0.1705170517051705\n",
      "1989 0.17492416582406473\n",
      "1990 0.15940366972477063\n",
      "1991 0.17775467775467776\n",
      "1993 0.24342745861733203\n",
      "1994 0.24722075172048702\n",
      "1996 0.28713910761154854\n",
      "1998 0.2966589861751152\n",
      "2000 0.3395810363836825\n",
      "2002 0.3403755868544601\n",
      "2004 0.35785536159601\n",
      "2006 0.3435155412647374\n",
      "2008 0.4001597444089457\n",
      "2010 0.4773988897700238\n",
      "2012 0.4835341365461847\n",
      "2014 0.5790147152911068\n",
      "2016 0.5911039657020365\n"
     ]
    }
   ],
   "source": [
    "for name, series in grouped['grass']:\n",
    "    print(name, series.mean())"
   ]
  },
  {
   "cell_type": "markdown",
   "metadata": {},
   "source": [
    "Instead, you can apply a function to the `SeriesGroupBy`; the result is a new `Series` that maps from group names to the results from the function; in this case, it's the fraction of support for each interview year."
   ]
  },
  {
   "cell_type": "code",
   "execution_count": 21,
   "metadata": {},
   "outputs": [
    {
     "data": {
      "text/plain": [
       "year\n",
       "1972         NaN\n",
       "1973    0.201365\n",
       "1974         NaN\n",
       "1975    0.225692\n",
       "1976    0.293956\n",
       "1977         NaN\n",
       "1978    0.305650\n",
       "1980    0.258584\n",
       "1982         NaN\n",
       "1983    0.239437\n",
       "1984    0.214789\n",
       "1985         NaN\n",
       "1986    0.174669\n",
       "1987    0.155065\n",
       "1988    0.170517\n",
       "1989    0.174924\n",
       "1990    0.159404\n",
       "1991    0.177755\n",
       "1993    0.243427\n",
       "1994    0.247221\n",
       "1996    0.287139\n",
       "1998    0.296659\n",
       "2000    0.339581\n",
       "2002    0.340376\n",
       "2004    0.357855\n",
       "2006    0.343516\n",
       "2008    0.400160\n",
       "2010    0.477399\n",
       "2012    0.483534\n",
       "2014    0.579015\n",
       "2016    0.591104\n",
       "Name: grass, dtype: float64"
      ]
     },
     "execution_count": 21,
     "metadata": {},
     "output_type": "execute_result"
    }
   ],
   "source": [
    "series = grouped['grass'].mean()\n",
    "series"
   ]
  },
  {
   "cell_type": "markdown",
   "metadata": {},
   "source": [
    "Overall support for legalization has been increasing since 1990."
   ]
  },
  {
   "cell_type": "code",
   "execution_count": 22,
   "metadata": {},
   "outputs": [
    {
     "data": {
      "image/png": "iVBORw0KGgoAAAANSUhEUgAAAYcAAAEWCAYAAACNJFuYAAAABHNCSVQICAgIfAhkiAAAAAlwSFlz\nAAALEgAACxIB0t1+/AAAADl0RVh0U29mdHdhcmUAbWF0cGxvdGxpYiB2ZXJzaW9uIDIuMi4yLCBo\ndHRwOi8vbWF0cGxvdGxpYi5vcmcvhp/UCwAAIABJREFUeJzt3XlcVPX+x/HXMCyyCCrKoiJuuCS4\nr6GSuGAigktquZRpqWVaV3+pdbWupZalZXWvaWqLS6XmjtrigrjhQoqouIKAsgkKsjMz5/eHOYWA\ngDIMyOf5ePh4wJkz57znOMxnvud7zverUhRFQQghhPgHE2MHEEIIUfFIcRBCCFGAFAchhBAFSHEQ\nQghRgBQHIYQQBUhxEEIIUYAUhyfU5s2bef755w2ybW9vb44cOVLoYyEhIfTs2dMg+y2JCRMmsGXL\nFgC2b9/Oyy+/bLQsRXnY8atIvvzyS2bMmPFIzy2v19i8eXOuX79u8P1URabGDiAe3cmTJ/n000+5\nfPkyarWaxo0b884779C6dWtjRzOalStX6n8eNGgQgwYNMmIaUZ6+/PJLtm7dyp07d2jfvj0fffQR\n9vb2xo5VaUnLoZJKT09n0qRJjB49muPHj3Pw4EGmTJmCubm5saMZhaIo6HQ6Y8cQRqTRaFizZg1H\njhzB3NycL7/80tiRKjUpDpVUZGQkAAMHDkStVlOtWjW6d+9OixYt8q338ccf06lTJ7y9vQkKCtIv\nT0hIYNKkSXTu3Jm+ffuyYcMG/WOzZs3is88+0//+sFNF2dnZzJo1i06dOjFgwADOnj370NzNmzdn\n3bp19OvXj3bt2vH5558THR3NiBEjaN++PdOmTSM3NxeA1NRUJk6cSNeuXenUqRMTJ04kPj5ev60x\nY8bw2WefMXLkSNq0aUNMTAxjxoxh48aNQP5Ta7GxsTRv3hyNRpPv+ffXjY6OZuzYsXTp0oUuXbow\nffp00tLS9Ot6e3uzatUq/Pz86NChA2+++SY5OTklylmYs2fPMmDAADp16sTs2bP12wLYv38//v7+\ndOzYkZEjRxIREVEuxzMmJobRo0fTrl07xo0bx+3bt/Pt6/Tp04wcOZKOHTsyaNAgQkJCHvoa79Pp\ndKxYsYI+ffrQpUsXpk2bxp07d/SPb926lV69etGlSxf++9//5jslFRYWxogRI+jYsSPdu3dn3rx5\n+tfzoLfeeou6detiYWFB69atSU5OLlE+UTgpDpVUo0aNUKvVzJw5k6CgIFJTUwusExYWRqNGjTh2\n7BgTJkzg3Xff5f5oKdOnT8fJyYng4GC++OILlixZwtGjR0ud46uvviI6Oprff/+dVatWsXXr1mKf\nExwczObNm9mwYQMrV65kzpw5fPrppwQFBXH58mUCAwOBex8qQ4YMYf/+/ezfvx8LCwvmzZuXb1vb\ntm3jgw8+IDQ0lLp165Y6/32KojBx4kSCg4PZvXs38fHxBb557t69m5UrV7J3714uXrzI5s2bS5zz\nQTt27GDVqlX8/vvvREZG8r///Q+Ac+fO8c477zBv3jxCQkIYMWIEr732WpEfiFB2x3PGjBm0atWK\nkJAQXnvtNX3fDdz7MjFx4kQmT57M8ePHmTlzJlOnTiUlJaXYY/vDDz/wxx9/sHbtWoKDg7Gzs9Pv\n98qVK/znP//hk08+ITg4mPT0dBISEvTPNTExYfbs2Rw7doyffvqJo0ePsn79+ofuLzIykm+//ZaA\ngIBis4miSXGopGxsbFi/fj0qlYo5c+bQrVs3Jk2axK1bt/Tr1K1bl+HDh6NWqxk8eDBJSUncunWL\nuLg4Tp06xYwZM7CwsKBly5Y899xzbNu2rdQ5du/ezaRJk6hRowbOzs6MGTOm2Oe88sor2NjY4Obm\nRrNmzfD09MTFxYXq1avTs2dPzp8/D0DNmjXx8fHB0tISGxsbJk+ezIkTJ/Jta/Dgwbi5uWFqaoqZ\nmVmp89/n6uqKp6cn5ubm1KpVi3HjxhXY15gxY3B0dKRGjRr06tWLCxculDjng0aNGoWzszM1atRg\n8uTJ+g/wDRs2MGLECNq0aaP/fzMzM+P06dNFbqssjufNmzc5e/Ys06ZNw9zcXN/avG/btm307NkT\nLy8vTExM8PT0xN3dPV9rtCg///wzb731Fk5OTpibmzNlyhR+/fVXNBoNe/bsoVevXnTs2BFzc3Om\nTp2KSqXSP9fd3Z22bdtiampK/fr1GTFixEOP7e3btxk3bhwTJ06kd+/exWYTRZMO6UqsSZMmfPTR\nRwBcvXqV//u//2PBggUsWbIEgNq1a+vXtbS0BCAzM5M7d+5gZ2eHjY2N/vG6desSHh5e6gyJiYk4\nOzvn205x/pnLwsKiwO/3C1xWVhYLFy4kODhY3zLKyMhAq9WiVqsB8u37cSQnJ/Phhx9y8uRJMjIy\nUBQFW1vbfOvUqVNH/7OlpSWJiYklzvmgB4/Z/W3dvHmTrVu3snbtWv3jeXl5+scLUxbHMzExEVtb\nW6ysrPLliouL0+fas2cP+/fv1z+u0Wjo0qVLkbnuu3nzJq+//jomJn9/FzUxMSE5OZnExEScnJz0\nyy0tLalRo4b+98jISD766CPCw8PJyspCq9XSqlWrIvf122+/0aBBA8aNG1dsLvFwUhyeEE2aNGHI\nkCH8/PPPxa7r4OBAamoq6enp+gIRFxeHo6MjcO8PNDs7W7/+P1sjD6pTpw5xcXG4ubnpt1NWVq9e\nTWRkJBs2bKBOnTpcuHCBgIAA/jmQ8D+/ZT7M/Q+97Oxs/WtOSkrSP7548WJUKhXbt2+nZs2a/PHH\nH8WeGipNzgf98zjdvHkTBwcH4F7RmDRpEpMnTy7RvkvjYTnr1KlDWloamZmZ+mN18+ZN/fF1dnbG\n39+fDz/8sNT7dXJyYsGCBXTo0KHAYw4ODvr+M7j3//PP/oj333+fp556isWLF2NjY8N3333Hr7/+\nWuS+kpKS9MdSPB45rVRJXb16ldWrV+s7FOPi4ti5cydt2rQp9rnOzs60a9eOJUuWkJOTQ0REBJs2\nbcLPzw+Ali1bEhQUxJ07d0hKSuL7778vclvPPvssK1asIDU1lfj4eNasWVM2L5B732otLCywtbXl\nzp07fPXVV4+8rVq1auHo6Mi2bdvQarVs2rSJmJiYfPuysrLC1taWhISEfJfEGiLn+vXriY+P586d\nOyxfvpwBAwYA8Nxzz/HTTz9x5swZFEUhMzOTAwcOkJ6eXvoXXYqc9erVw93dnS+//JLc3FxOnjyZ\nr5UwaNAg9u/fT3BwMFqtlpycHEJCQorteAd4/vnn+fzzz7lx4wYAKSkp/PHHHwD4+Piwb98+QkND\nyc3N5YsvvshXVDMyMrC2tsba2pqrV6/y448/PnRf48aN47333ivVcRGFk+JQSdnY2HDmzBmee+45\n2rZty/Dhw2nWrBmzZs0q0fOXLFnCjRs36NGjB1OmTOGNN97A09MTAH9/f1q0aIG3tzcvv/yy/oOr\nMFOmTKFu3br07t2bl19+GX9//zJ5fQAvvvgiOTk5dO3alREjRtCjR4/H2t4HH3zAqlWr6NKlC1eu\nXKFdu3b6x6ZMmcL58+fp2LEjr776Kv369TNozoEDB/Lyyy/Tp08fXFxc9C0FDw8PPvjgA+bNm0en\nTp3o16+fvuP7cRWXc/HixZw5c0Z/1dA/O3SdnZ353//+x/Lly+nWrRteXl6sWrWqRJcPjx07Vv9e\nateuHcOHDycsLAwANzc35syZw7/+9S969OiBtbU1tWrV0l+SPXPmTHbu3En79u2ZM2fOQ9+LAGvW\nrNGfahWPRyWT/Ygn1aZNm9i+fTs//PCDsaOIEsrIyKBTp078+uuvuLi4GDtOlSYtB/HEunLlCvXr\n1zd2DFGMffv2kZWVRWZmJh9//DHNmjWT/7cKQDqkxRPptdde4/r16yxdutTYUUQx9u7dy9tvv42i\nKLi7u7NkyZISX2ggDEdOKwkhhCigUrUcsrOzCQ8Pp06dOkVePy6EECI/rVZLUlIS7u7uVKtWrUTP\nqVTFITw8nFGjRhk7hhBCVErr1q2jY8eOJVq3UhWH+3eorlu3Lt9dlUIIIYoWHx/PqFGj8t3lX5xK\nVRzun0pycnKSqxmEEKKUSnM63qCXsh48eBAfHx/69u3LihUrCl1n165dDBgwAF9fX6ZPn27IOEII\nIUrIYC0HrVbLvHnz+Pbbb3F0dGTYsGF4e3vTtGlT/TpRUVGsWLGCH3/8ETs7u8caf12j0VSpyV5M\nTEwwNa1UDT8hRCVisJZDWFgYrq6uuLi4YG5ujq+vL3v37s23zoYNGxg1ahR2dnYAjzyl3927dx86\n3v2TKDc3l7t37xo7hhDiCWWwr54JCQn5Oo0dHR3146ncFxUVBcDIkSPR6XRMmTKl1JPTazQa1Gp1\nvqGGqwJzc3MyMzPRaDTSghBClDmDfaoUdm/dg3c9arVarl+/zpo1a/S96Tt37iwwjv7D6HS6Kvvh\nqFarq9SpNCFE+THYaSUnJ6d8w/kmJCQUGGfd0dGR3r17Y2ZmhouLC40aNdK3JkTxZIgBIYShGKw4\neHh4EBUVRUxMDLm5uQQGBuabdhCgT58++knKU1JSiIqKkpEYhRCijCiKwtXYO2w5cKXUzzXY+RhT\nU1Pmzp3LhAkT0Gq1DB06FDc3N5YuXYq7uzu9e/emR48eHD58mAEDBqBWq3n77bepWbOmoSIJIUSV\nkJiSSdCfsew/FUtMwl3yMlNKvY1KNfBebGwsvXv3Zu/evfqb4O5fpXR/cpCKrKw7jyvTaxdCGFZ6\nVh6Hz9zkQGgM4Vfv3RZgZmpC56ecaOWiZsbk5/N9dhanavbkGsh///tfduzYgbOzMzVr1qRVq1Yc\nOHCAdu3aERoaire3Nw0bNmTZsmXk5eVRo0YNPv30U2rXrs3x48eZP38+cK8vYe3atWRmZvLWW2+R\nnp6OVqvl/fffL/G4KEKIJ1+eRsvJC4kcCI3h+LkENNp7F6h4NKnNMx3q83TruthYmhEbG1vqbT9x\nxWH1jnMcPnOjTLfp2aYeL/u1eug6Z8+e5bfffmPr1q1oNBqGDBlCq1b3npOWlsbatWsBSE1NZcOG\nDahUKjZu3MjKlSuZNWsWq1evZu7cuXTo0EE/1++GDRvo3r07kydPRqvVkpWVVaavSwhR+SiKwoWo\nFA6ciiX49A3Ss/IAaOBUnV4dXOjZrh4ONR//0v4nrjgYy6lTp+jdu7d+ONxevXrpH/vnvLfx8fG8\n9dZbJCUlkZubq2/itW/fno8++gg/Pz/69euHtbU1Hh4evPPOO2g0Gvr06UPLli3L90UJISqMm0np\n7DsZw4HQWBJSMgGoZWtBQOcm9OrgQqO6tmV6BeMTVxxe9mtV7Lf88mZpaan/+cMPP+Sll16id+/e\nhISE8NVXXwHw6quv4uXlRVBQEMOHD+fbb7+lU6dOrF27lqCgIN5++23Gjx+fb9J3IUTVcD0+jbc+\nCyJPo8PSQo13Rxd6daiPR9M6qE0Mc0m7zCFdRtq3b8/+/fvJyckhIyODAwcOFLre3bt3cXR0BGDr\n1q365dHR0TRv3pxXX30Vd3d3IiMjuXHjBvb29gwfPpyhQ4dy7ty58ngpQogKZu+JGPI0OsYOaMkP\n7/Xnrefb07aZg8EKAzyBLQdjad26Nd7e3gwaNIh69erh7u5O9erVC6w3ZcoUpk2bhqOjI23atNF3\nFH3//feEhIRgYmJC06ZN6dmzJ4GBgaxatQpTU1OsrKz4+OOPy/tlCSGMTKtTOPhnLNaWZgR4NcHM\ntHxmwZRLWctQRkYG1tbWZGVlMWrUKD744AN9p7QhVKTXLoQwjLNXbvHOssP06+LKG8PbPtI2Cvvs\nLI60HMrQ3LlzuXLlCjk5OQwePNighUEIUTUE/Xnv7IJX+3rlul8pDmVo8eLF5bo/RVFkfCUhnmB5\nGi2Hz9yklm01WjWuXa77rvQd0iYmJmg0GmPHMAqtVouJSaX/LxRCFCE0IpH0rDx6tqtn0M7nwlT6\nloOpqSlZWVlkZmaiVqurxDdpRVHQarVotdoqO1y5EFVB0J/3buj1aleyfoKy9ER8slSvXr1KTROq\nUqkwNzeXwiDEEywzO4+Qc/HUq2NNk/p25b7/J+bTRT4ohRBPkpBz8eTmafFqV98oZ0TkhLUQQlRA\nQaH3rlLq2b78TymBFAchhKhwUtNz+PNSEk1dalCvjo1RMkhxEEKICubQmZvodIpROqLvk+IghBAV\nTFBoLCoV9Ghb12gZpDgIIUQFkpCSyYWoFDya1MbezrL4JxiIFAchhKhADuqHyzDeKSWQ4iCEEBXK\nwT9vYKo24WkPZ6PmkOIghBAVRFRcGlFxaXRs6YCNlXFHW5biIIQQFURFOaUEUhyEEKJCUBSFoNBY\nLC3UdHrKydhxpDgIIURFEBF1m8TbWXTzqIuFWfnM9vYwUhyEEKIC0E/qY8Qb3/5JioMQQhiZRqvj\n0Jkb2NmY08atfCf1KYoUByGEMLIzl5NITc+lR5t6qNUV42O5YqQQQogq7P4IrBXhKqX7pDgIIYQR\nZedqOBYeh0MtK5q71jR2HD0pDkIIYUQnzieQlaPFq129CjXNsRQHIYQwoop4SgmkOAghhNGkZ+Zy\nKiKBhs62uDrZGjtOPlIchBDCSA6HxaHRKhWu1QBSHIQQwmjuj6XUs209IycpSIqDEEIYQXJqFmev\n3uKpRrVwqGVl7DgFSHEQQggjCD59A0WpeB3R9xm0OBw8eBAfHx/69u3LihUrCjy+efNmunbtir+/\nP/7+/mzcuNGQcYQQosIICo1FbaLCs7Xx5ol+GFNDbVir1TJv3jy+/fZbHB0dGTZsGN7e3jRt2jTf\negMGDGDu3LmGiiGEEBVObOJdrsSm0rGlI3Y2FsaOUyiDtRzCwsJwdXXFxcUFc3NzfH192bt3r6F2\nJ4QQlcbBP28A4NWu4nVE32ew4pCQkICT098TVjg6OpKQkFBgvd9++w0/Pz+mTp1KXFycoeIIIUSF\ncH9SH3MzNV3cjTtP9MMYrDgoilJg2YO3hvfq1Yt9+/axY8cOunXrxsyZMw0VRwghKoQrsXe4eSuD\nrq2csLQw2Jn9x2aw4uDk5ER8fLz+94SEBBwcHPKtU7NmTczN702iPXz4cM6dO2eoOEIIUSEEhd47\npdSzAp9SAgMWBw8PD6KiooiJiSE3N5fAwEC8vb3zrZOYmKj/ed++fTRp0sRQcYQQwui0OoXg07HY\nWJrRvoWjseM8lMHaNKampsydO5cJEyag1WoZOnQobm5uLF26FHd3d3r37s2aNWvYt28farUaOzs7\nFi5caKg4QghhdOFXb5GSloNPV1fMTCv2bWYGPeHl5eWFl5dXvmXTpk3T/zx9+nSmT59uyAhCCFFh\n6EdgrSDzRD9MxS5dQgjxhMjTaDkSdhN7u2o81dje2HGKVXG7yoUQohLTanXcSEon8mYakTdTuRh9\nm4xsDX27uKI2qTiT+hRFioMQQjymu5m5RP1VBCJvphEZl0p0/F3yNLp86znWsqJ/t4bGCVlKUhyE\nEKKEFEXJ1xqIvJlG1M1UbqVm51vPzNSEBk7VaeRsR8O6tjSqa0tDZztsrc2NlLz0pDgIIUQJfR94\nnl/2X8m3rJatBe1bONDI2ZZGde8Vg/p1bFCrK3eXrhQHIYQogdT0HLYHX6O2XTX8vZroWwUVdeC8\nxyXFQQghSmDPsSjyNDoG92rKoB5P/g27lbvdI4QQ5UCj1bHrcBSWFqb06dTA2HHKhRQHIYQoxuEz\nN0lJy6Zv5wZYVTMzdpxyIcVBCCGKsT34KioVDOze2NhRyo0UByGEeIiI6ylcir5D56eccK5tbew4\n5UaKgxBCPMSOg9cA8OtRdVoNIMVBCCGKdOtOFofDbuLqVJ3WTWsbO065kuIghBBF2HUkEq1OYVDP\nJgVmsnzSSXEQQohC5ORp2XP0OtWtzPFqX/GH2C5rUhyEEKIQB07Fcjczl/7dXLEwUxs7TrmT4iCE\nEA9QFIUdwVdRm6jw9Wxk7DhGIcVBCCEeEHb5Ftfj7+LZpi72dpbGjmMUUhyEEOIB24PvXb46qIpd\nvvpPUhyEEOIf4m5lcOJCPM0b1KS5ay1jxzEaKQ5CCPEPOw9dQ1Gq3k1vD5LiIIQQf8nMzuP349HU\nsq2GZ5u6xo5jVFIchBDiL38cjyYrR4OvZyNMK/lMbo+rar96IYT4i1ansPNQJOamJvh0dTV2HKOT\n4iCEEMCpCwnEJWfg1b7+Ezv1Z2k8tDjodDoiIiLKK4sQQhjNtoNXARjU88mfArQkHlocTExMePfd\nd8srixBCGEVUXBphV27RumltGjrbGjtOhVDsaaUmTZoQGxtbHlmEEMIodshNbwWYFrdCSkoKgwYN\nokOHDlhZWemXL1261KDBhBCiPKSm53DgVAxO9lZ0fMrJ2HEqjGKLg6+vL76+vuWRRQghyt2vx66T\nq9Hh170xapOqNWfDwxRbHAYPHlweOYQQotxptDp2HYnE0sKUPp0bGDtOhVJsn0NKSgpvvfUWXbt2\npVu3bkyfPp2UlJTyyCaEEAZ1JOwmyanZ9OncAKtqZsaOU6EUWxzee+89GjZsyLZt29iyZQuurq7M\nnTu3PLIJIYRBbT94DZUKBnavmnM2PEyxxSE6Oppp06bh6OiIk5MTU6dOJSYmpjyyCSGEwVy8nsLF\n6Nt0aulE3do2xo5T4RRbHHQ6HcnJyfrfk5OT0el0Bg0lhBCGJnM2PFyxHdLjx48nICCAZ555BpVK\nRVBQEP/617/KI5sQQhhEcmoWh8/cxNWpOq3dahs7ToVUbHEICAjgqaee4vjx4yiKwtixY2natGl5\nZBNCCIMIPByJVqfg16MxKpVcvlqYYk8rbd26lQYNGjB69GjGjBlTqsJw8OBBfHx86Nu3LytWrChy\nvT179tC8eXPOnj1b4m0LIcSjyMnTsufodapbmfNMBxdjx6mwii0O+/bto1evXvz73//m1KlTJd6w\nVqtl3rx5rFy5ksDAQHbu3MmVK1cKrJeens6aNWto06ZN6ZILIcQjCAqN5W5mLv27uWJhpjZ2nAqr\n2OLwxRdfsHv3bpo3b878+fPx8fFh+fLlxW44LCwMV1dXXFxcMDc3x9fXl7179xZYb+nSpUyYMAEL\nCxkiVwhhWFqtjq1BVzAxUTHgabl89WFKNJ9DjRo1GDNmDKtXr6ZLly58/vnnxT4nISEBJ6e/xylx\ndHQkISEh3zrnz58nPj6eXr16lTK2EEKUXuCRSGIS0unTqQG1a1gaO06FVmxx0Gq17N+/nzfeeINn\nn30WnU7H2rVri92woigFlv2z40en07Fw4UJmzpxZyshCCFF6d+7msH5PBNaWZowd0NLYcSq8Yq9W\n8vLyws3NjYCAAD755BOqVatWog07OTkRHx+v/z0hIQEHBwf97xkZGVy6dImxY8cCkJSUxOTJk1m2\nbBkeHh6lfR1CCPFQP+w6T0a2hkmDPWSmtxIotjhs3LgRZ2fnUm/Yw8ODqKgoYmJicHR0JDAwkMWL\nF+sfr169OiEhIfrfx4wZw9tvvy2FQQhR5i5eT+H349E0dLalf7eGxo5TKRRbHJydnbl27RoRERHk\n5ubqlwcEBDx8w6amzJ07lwkTJqDVahk6dChubm4sXboUd3d3evfu/fjphRCiGDqdwtdb7l0mP2lI\na9TqEnW1VnnFFocffviBn3/+maSkJDw8PDh58iSdOnUqtjjAvVNSXl5e+ZZNmzat0HXXrFlTwshC\nCFFyvx+P5krMHZ5pX59Wje2NHafSKLaEbtiwQX9qadWqVWzcuBE7O7vyyCaEEI/lbmYu3weex9JC\nzUsDnzJ2nEql2OJgbm6OlZUVOp0ORVFo1qwZ0dHR5ZFNCCEey7o9EdzNzGVk3+bY28mlq6VR7Gkl\nS0tL8vLyaNGiBZ988gnOzs5kZ2eXRzYhhHhkkTdT2X0kknp1bPDr0cTYcSqdEk32k5eXx6xZs0hN\nTeXEiRMsWrSoPLIJIcQjURSFrzeHoVPg1cEemJlKJ3RpFXnE7g/LffToUaysrLC3t2f+/Pl88cUX\ntGwpN5AIISquoNBYzkem0M3DmfbNHYp/giigyOJw+fJl4N6orEIIUVlkZufx7c5zmJuaMH6Qu7Hj\nVFpF9jm4u7vToUMHcnJy6Natm365oiioVCqOHj1aLgGFEKI0fv79EilpObzg0wLHWlbGjlNpFVkc\nFi5cyPTp03nxxRcfOheDEEJUFDEJd9l28CqOtawY0ksmJXscD71aqXbt2mzYsAFra+vyyiOEEI9E\nURRWbD2LVqcwwd9d5mp4TMV24UthEEJUBsfC4zh9KYn2LRzo0sqp+CeIh5Lru4QQlV52roaV28Ix\nVat4NcBD5oUuA1IchBCV3i/7rpB4Owv/nk2oV8fG2HGeCMXeIQ2QlZVFfHw8Wq1Wv6xpU+nsEUKU\nXk6elsBDkRw8HUvLhrUY2L3xY32gxydn8Mv+y9SyrcaIvs3LMGnVVmxxWLduHZ9++ik1atTQN9VU\nKlWh80ELIURR8jQ6fj9+nZ9/v0hKWg4AV2NT2XkokvYtHPDr3pj2zR0wMSndKaGV28LJ0+gYP6gV\nlhYl+r4rSqDYI7l69Wp27txJvXr1yiOPEOIJo9UpHDgVw/rfLpKYkomFuZrnersxqEcTzl69xY7g\na4RGJBIakYhzbWsGejaid6cGWFuaFbvtkxcSCDkXj3sTe3q0lc+oslRscahTp44UBiFEqel0CkfP\nxrHu1wvEJKRjqjbBr0djnvN2o6btvemGe7StR4+29bgae4edhyIJ+jOWb7aFs2b3Bbw7ujCwe2Nc\nHKsXuv08jZZvtp7FxETFxMGtpRO6jBVbHJ5++mkWLVqEr68vFhZ/z7sqfQ5CiMIoisKpiETW7L7A\ntRupmJio6NfFlRF9m+FQs/A7lpvUr8G0ke14aeBT/BZynV2HI9l1JIpdR6Jo26wOfj0a06GFI+p/\nnHLaGnSVm7cy8OvRmIbOtuX18qqMYovD/bGV9uzZo18mfQ5CiMKEX73FD7sucCEqBZUKerarxyif\nFtQtYYeznY0Fz/VuxpBnmnIsPJ4dh65x+lISpy8l4WRvha9nI/p0diU7R8OGPy5hZ2POCz4tDPyq\nqqZii8O+ffvKI4cQohK7FH17uIAiAAAgAElEQVSbtbsv8OelJAC6tHJi9LMtH/kbvVptgmebuni2\nqUvkzXud1gdOxbBq+znW7onAoaYl2blaXg3wwKYEfROi9IosDrm5uZibm5OVlVXo45aWMquSEFXd\n9fg01u2J4OjZOADautVh9LMtaO5aq8z20aiuHW8Mb8uLvk/xe8h1Ao9EEpOQTrMGNejdqUGZ7Ufk\nV2RxGDFiBFu2bKFdu3aoVCoURdE/plKpuHDhQrkEFEIYzpnLSQSFxpKn0ZGn1aHR6NBo7/9T0Nxf\nrtWRd/+xf6yTlXPv3qcWrjUZM6AlrZvWMVhWW2tzhnq7EfBMU85du4Wrk22pL3sVJVdkcdiyZQsA\nERER5RZGCFF+rsTc4T8rj5Gn0RX6uEoFZmoTTE1NMFX/9c/UBKtqpvqfq1uZM6hHYzq2dCy3q4XU\nJiqDFiFxj9wxIkQVlJaRy8Lvj6PR6pg5tiMtXGvpP/BN1SrM1Cao1TK6TlUmxUGIKkarU1i87hSJ\nt7N4wacF3dvIfUyiIPlqIEQV8+NvEYReTKRjS0dG9Glm7DiigpLiIEQVcvxcPD//fgkneyumv9Be\nOnRFkUpcHCIiIhgzZgxDhw4lODjYkJmEEAZw81Y6S9afwtzUhHde6oyNlbmxI4kKrMg+B61Wi1r9\n9zR7X3/9NQsXLkSlUjFp0iR69OhRLgGFEI8vO1fDwu9OkJGt4a3n29Gorp2xI4kKrsiWw4svvkho\naKj+d0VRUKvVBe55EEJUbIqi8N+NZ4iKS2PA0w3x7ig3joniFdly+Oqrr1i0aBFbt25lxowZTJo0\niRkzZpCVlcWMGTPKM6MQ4jEEHo7kQGgszV1rMsHfw9hxRCVRZHGoUaMGCxYs4MSJE7z22msMHz6c\ndevWlWc2IcRjuhCZwspt4dSwsWDW2E6Ymco1KKJkinyn6HQ6goKCyMvLY/Xq1cTExDBp0iSio6PL\nM58Q4hHdTsvmox9OoABvj+lI7RoyHpoouSJbDm+++SY2NjZkZ2fz22+/8f777xMVFcX8+fNp3bo1\nr7/+ennmFEKUgkar4+M1J0lJy2bcwFZ4NK1t7EiikimyOFy/fp1t27YB4O/vD0DDhg1Zvnw527dv\nL590QohH8n3gec5dS+bp1s4MfqaJseOISqjI4lC/fn3effddsrOzad26db7HBg0aZPBgQohHE3z6\nBluDrlLfwYZpI9rJ9JnikRRZHJYuXcqhQ4cwNTXF09OzPDM9cZJuZ1HL1kIGMhMGFx2fxhc//4ml\nhZp3XuqMVTWZCEc8miI/rUxNTXnmmWfo3r37I3/zOHjwID4+PvTt25cVK1YUePzHH3/Ez88Pf39/\nnn/+ea5cufJI+6nIMrPzeHXh7yz8/oTcHyIMKjM7jwXfHSc7V8vUEe1wcaxu7EiiEjPYV1mtVsu8\nefNYuXIlgYGB7Ny5s8CHv5+fHzt27GDbtm1MmDCBhQsXGiqO0VhamPJUI3tCzsWz+2iUseOIJ5Si\nKHz+05/cSMpg8DNNZaRV8dgMVhzCwsJwdXXFxcUFc3NzfH192bt3b751bGz+nnQ8KyvriTw3qlKp\n+NcL7bGxNGPVtnCi49OMHUk8gTbvv8LRs3F4NKnNiwNaGjuOeAIYrDgkJCTg5OSk/93R0ZGEhIQC\n661bt44+ffrwySef8O9//9tQcYzK3s6SN4a3JVej49N1p8jTaI0dSTxBzlxK4odd56llW43/G9NB\n+rZEmTDYu6iw8+uFtQxGjRrFH3/8wYwZM1i2bJmh4hjd063r0q+LK5E30/hhl8y/LR6dVqcQcT2F\ndXsi+NfnQcxZcQQTExWzX+xEzerVjB1PPCEMNhOck5MT8fHx+t8TEhJwcHAocn1fX1/ef/99Q8V5\nLFFxaXyy9iT/N7ojDZ1tH3k7r/i7c+7aLbYGXaV9cwfaNS/6eAjxT7fvZhMakUhoRCJ/XkrkbmYe\ncG8+5VaN7Qno2YQWDWsZOaV4khisOHh4eBAVFUVMTAyOjo4EBgayePHifOtERUXRsGFDAA4cOICr\nq6uh4jyWA6diiI6/S0pa9mMVh2oWpkwf1YH/+yKYz38K5YvpvbCzsSjDpOJJodXqiLh+m1MRCYRe\nTORqbKr+sdp21Xi6a106tHCgjVsduVxVGITBioOpqSlz585lwoQJaLVahg4dipubG0uXLsXd3Z3e\nvXuzdu1ajh49iqmpKba2tnz88ceGivNYwq8lY2KiooVrzcfelptLTUY/25LvA8/z5YbTvDuu8xPZ\nES9KLzk1i1N/tQ5OX0okI1sDgKlaReumtenQwpEOLR1o4Fhd3jPC4AxWHAC8vLzw8vLKt2zatGn6\nnytDB3R2joYrMXdoWt+uzL6hDX6mKaERiYSci2fPses8261hmWxXVE7JqVks/P4EF6/f1i9zqGlJ\nz3b16dDCgdZudbC0MOifqhAFyDuuGBHXU9DqFNwbl93AZWqTe5e3vvHpflZuC8e9sb3csFRFZedo\n+GB1CFdjU2ndtDadnnKiQwsH6jvYSOtAGJVc81aM8KvJALg3sS/T7dauYcmU4W3JzdPy6Vq5vLUq\n0ukUlvwYytXYVPp2bsCHk54mwKsJLnLaSFQAUhyKEX4tGRMVPNWobIsDgGfruvTt3IBrN1NZszui\nzLcvKra1ey5w9Gwc7k3smTy0jRQEUaFIcXiInDwtF6/fplE9O6wtDXNFyCsBHjjXtmbLgSucvpRo\nkH2IimffyRg27r2Ms701s1/sLDO0iQpH3pEPcen6bTRaXZn2NzzI0sKUGaM6oDZR8dmPf5KWkWuw\nfYmK4XxkMl9uOI11NVPmjO+CrbW5sSMJUYAUh4cIv3oLKPv+hgc1a1CTUf1bkJKWzVcbT8vorU+w\n+OQM5n97HJ2iMOvFTnIhgqiwpDg8RPi1ZFQqaNXYsMUBYEgvN9yb2HP0bBy/hVw3+P5E+cvMzuOD\n1SGkZeQyabAHbZvJHfKi4pLiUIQ8jZaIqBRcnWypbmX4Zr/aRMW/nu+AtaUZ32wLJzbxrsH3KcqP\nVqtj0ZqTRMffxa9HY559upGxIwnxUFIcinAp+g65Gh3u5dBquK9OTUumPNeGnFztX6O36spt38Kw\nVu84x6mIRNq3cGC8XytjxxGiWFIcihB+7X5/g+E6owvTvU09+nRqwNXYVNbtkdFbnwS7j0SyPfga\nDZyq8/bojjKktqgU5F1ahPs3v5VHf8ODXglwx9nems0HrnDmclK571+UndOXEvl6y1lsrc2Z83IX\ng10SLURZk+JQCI1WR0RUCi6ONtSoXv6jplpVM2PG6A6oVCo++zFULm+tpGIS7vLR9ycwUal4d1xn\nnOytjR1JiBKT4lCIK7F3yM7VGvT+huI0a1CTF3yak5yazXc7zxkth3g0aRm5fLAqhIxsDW8Mb2uQ\nO+yFMCQZeK8QhhpPqbSGeTfjZlIGdWpaGTWHKJ08jY6F3x8nLjmD53q74d3RxdiRhCg1KQ6F+Pvm\nN+O1HODe5a1vPd/eqBlE6SiKwrJfzhB+NZmnWzszun9LY0cS4pHIaaUHaLU6zkemULe2NbVsZT5e\nUTpbg67y+/FomtS3462R7TExkcH0ROUkxeEB126mkpWjMXqrQVQ+IeFxfLvzHLVsqzHn5S5Ukwl6\nRCUm794HVJT+BlE53L6bTUTUbSKiUth1JBIzUzVzXu6CvZ2lsaMJ8VikODzg3LW/ioMRr1QSFZNW\np3A9Lo2I6ylciEohIiqF+ORM/ePmpibMGN2Bpi41jJhSiLIhxeEfdDqFc9eScahlRZ2a8s1P/C07\nV8P/fRFMVFyafpmNpRkdWzrSomFNWjashZtLTZnrWTwx5J38D9fj00jPyqNzKydjRykXt9OyqW5t\njqkM51Cs3UeiiIpLo22zOvRsW48WDWtRr46NdDiLJ5YUh384+9clrB5VoL8hT6PllYV/4NGkNnPH\nd5EpKh8iK0fDpn2XsapmyttjOpbLKL1CGJt8ZfyHvzujn/z+BjNTNa0a23PyQgK/HpP5Ix5m56Fr\npGXkEtCziRQGUWVIcfiLotzrb6htVw3HWlXjjuSpw9tibWnGqu3hxCdnGDtOhZSRlcfm/VewsTRj\nUM8mxo4jRLmR4vCX6IS7pGXk4t6kdpU5xWJvZ8nEwR5k52r5/Kc/0elketIHbQ++RnpWHkN6NZUR\nVUWVIsXhL1X1/oZn2tenm4cz564lsz34mrHjVCjpmblsC7qCrbU5A7s3NnYcIcqVFIe/VJTxlMqb\nSqXitaFtsLMx54dd54lJkOlJ79sSdJWMbA1De7nJJaqiypHi8JeIqBRqVregbu2qN+Z+jeoWvD6s\nDXkaHUt+DEWrlelJU9Nz2BF8lZrVLRjg2dDYcYQod1Ic/uLVvj6j+reoMv0ND+rmUZdeHepzJeYO\nm/ZdNnYco9u8/wpZOVqG9Xajmrm0GkTVI8XhLy8NbIVP14bGjmFUrw5ujb1dNX787SLXbqQaO47R\n3E7LZufhSGrbVaN/FX9PiKpLioPQs7E0Y+qIdmh1CkvWnyJPozV2JKPYtO8yuXlahvdphrmZ2thx\nhDAKKQ4in/bNHXi2W0Oux99l/a8XjR2n3CWnZrH7aBQOtazo09nV2HGEMBopDqKAcX6tcLK3YvP+\nyySmZBb/hCfIhj8ukafRMbJPM8xM5c9DVF3y7hcFWFqYMmtsJ3p3akB166ozXERiSia/hVzH2d6a\nXjLvs6ji5DIMUagm9WswdUQ7Y8coVz//cQmNVmFkv+YyUq2o8uQvQAgg7lYGf5yIpr6DDV7t6xs7\njhBGZ9DicPDgQXx8fOjbty8rVqwo8Pi3337LgAED8PPz48UXX+TGjRuGjCNEkX76/SI6ncIL/Vqg\nljkahDBccdBqtcybN4+VK1cSGBjIzp07uXLlSr51WrZsyS+//MKOHTvw8fHhk08+MVQcIYoUk3CX\nA6diaOhsi2ebusaOI0SFYLDiEBYWhqurKy4uLpibm+Pr68vevXvzrdO1a1csLe9Nx9m2bVvi4+MN\nFUeIIv30+0V0Crzg01xmdhPiLwYrDgkJCTg5/T3dpqOjIwkJCUWuv2nTJnr27GmoOEIU6npcGsGn\nb9C4nh1d3Z2NHUeICsNgVyspSsG5AYoat2jbtm2Eh4ezdu1aQ8URolDrf4tAUajS42oJURiDFQcn\nJ6d8p4kSEhJwcHAosN6RI0f4+uuvWbt2LebmVeeaemF8126kciQsjuYNatKppaOx4whRoRjstJKH\nhwdRUVHExMSQm5tLYGAg3t7e+dY5f/48c+fOZdmyZdjbV61JdoTxrdsTAcAL0moQogCDtRxMTU2Z\nO3cuEyZMQKvVMnToUNzc3Fi6dCnu7u707t2bRYsWkZmZybRp0wBwdnbm66+/NlQkIfQuRd/m+Pl4\nnmpUi3bN6hg7jhAVjkHvkPby8sLLyyvfsvuFAOC7774z5O6FKNL9VsPo/i2l1SBEIeQOaVHlnI9M\nJvRiIq2b1sajadWaFlaIkpLiIKqc+62GUf1bGDmJEBWXFAdRpZy9couwK7do39yBpxrJRRBCFEWK\ng6gyFEVh7Z4LgLQahCiOFAdRZew8FMn5yBQ6P+VEswY1jR1HiApN5nMQZS41PYdFa04y+JmmdCyD\nm8s0Wh2Xo+9w5koSZy4nkZKazTi/VqUa7iIoNJYVW89So7oFrwS4P3YmIZ50UhxEmdNodVyMvs1H\nP5zgo9e609SlRqmerygK1+PvcubyvWIQfjWZrBwNACoVqE1ULPz+BFOHt6V3pwbFbi80IpHPfgzF\nqpop817thpO99SO9LiGqEikOoszZ21nyf6M6MP+743yw+hifTvWiTk3LEj03NvEuH64O4UZShn5Z\n3drWPNOhPm3c6uDRpDY3b6Xzn2+O8flPf3I3M48AryZFbu/i9RQWfn8cExMVc17uQqO6do/9+oSo\nCqQ4CIPo4u7M+EHurNwWzrxVx/h4Snesqpk99DlXYu7w3jdHScvIpXubunRo4UgbtzoFCoutdS0+\ner07c1ccYdX2cO5m5jK6kCEwYhLu8p+VIeTmaZn9Umfcm8g9DUKUlHRIC4MZ1KMxA55uSFRcGovW\nnESr1RW5btiVJN5Zdoi7mbm8PqwNM8d2ok/nBkW2OFydbfl4Sg+ca1uz4Y9LLPslDK3u75GAk25n\nMXfFUe5m5jLlubYyHLcQpSTFQRiMSqXi1QAPOrRw4FREIt9sCy90KPcjYTd5b8Ux8jQKM8d0on+3\nhiXavpO9NR9P6U6jurbsPhrF4nWnyNPoSMvI5b1vjnDrThYv+T5F3y6uZfvChKgC5LSSMCi12oS3\nx3Rk5leHCDwcSd3a1gzq+XcfwW8h1/nvxtOYm6l5d1xn2jYrOKz7w9SsXo0Fr3Xng1XHCD59g4ys\nPDKy8ohJSCfAqwlDejUt65ckRJUgLQdhcFbVzJg7viu1bC1YuT2ckPA4AH7Zd5kvN5zG2tKc+ZM9\nS10Y7rOxNOM/r3ajY0tHQi8mcjH6Nt4dXRg3sJUMqifEI5KWgygXdWpaMuflrsz63yE+WXcKz9Z1\n2Xcyhtp21Zg38WlcHKs/1varmZvy7rjOfLvzHLl5OiYO9pD5oIV4DFIcRLlp6lKDGaM6sOC74+w7\nGUN9Bxvmvfp0iS9zLY6p2oRX/D3KZFtCVHVSHES56uruzNTh7fjzUiKvBnhgZ2Nh7EhCiEJIcRDl\nrk/nBvTpXPydzUII45EOaSGEEAVIcRBCCFGAFAchhBAFSHEQQghRgBQHIYQQBUhxEEIIUYAUByGE\nEAVUqvsctFotAPHx8UZOIoQQlcf9z8z7n6ElUamKQ1JSEgCjRo0ychIhhKh8kpKScHUt2RD2KqWw\nAfYrqOzsbMLDw6lTpw5qtdrYcYQQolLQarUkJSXh7u5OtWrVSvScSlUchBBClA/pkBZCCFGAFAch\nhBAFSHEQQghRgBQHIYQQBUhxEEIIUcATXRxmz55Nt27dGDhwoH5ZREQEI0aMwM/Pj0mTJpGeng7A\n9u3b8ff31/9r0aIFFy5cAGDMmDH4+PjoH0tOTi63XHl5ecycORM/Pz+effZZli9frn/OwYMH8fHx\noW/fvqxYseKxMpVlLm9vb/z8/PD392fIkCHlmis3N5fZs2fj5+fHoEGDCAkJ0T8nPDwcPz8/+vbt\ny4cffsjjXqhXVrnK+v0VFxfHmDFjePbZZ/H19eX7778H4M6dO4wbN45+/foxbtw4UlNTAVAUhQ8/\n/JC+ffvi5+fHuXPn9NvasmUL/fr1o1+/fmzZsqXC5GrZsqX+eE2aNKlcc129epURI0bg7u7OqlWr\n8m2rLP8myzLXI/1NKk+w48ePK+Hh4Yqvr69+2ZAhQ5SQkBBFURRl48aNymeffVbgeREREYq3t7f+\n99GjRythYWFGybV9+3blzTffVBRFUTIzM5VevXopMTExikajUXr37q1ER0crOTk5ip+fn3L58mWj\n51IURenVq5eSnJz8WFkeNdfatWuVWbNmKYqiKLdu3VIGDx6saLVaRVEUZejQoUpoaKii0+mU8ePH\nKwcOHKgQucr6/ZWQkKCEh4criqIod+/eVfr166dcvnxZ+fjjj5Xly5criqIoy5cvVxYtWqQoiqIc\nOHBAGT9+vKLT6ZQ///xTGTZsmKIoinL79m3F29tbuX37tnLnzh3F29tbuXPnjtFzKYqitG3b9pFz\nPG6uW7duKWfOnFGWLFmirFy5Ur+dsv6bLKtcivJof5NPdMuhU6dO2NnZ5VsWGRlJp06dAPD09OS3\n334r8LzAwMB83waNmUulUpGVlYVGoyE7OxszMzNsbGwICwvD1dUVFxcXzM3N8fX1Ze/evUbPZQil\nyXXlyhW6du0KgL29PdWrVyc8PJzExETS09Np164dKpWKgICAcj1eReUyBAcHB1q1agWAjY0NjRs3\nJiEhgb179xIQEABAQEAAf/zxB4B+uUqlom3btqSlpZGYmMihQ4fw9PSkRo0a2NnZ4enpSXBwsNFz\nlbXS5rK3t6d169aYmuYfYKKs/ybLKtejeqKLQ2GaNWum/w/bs2cPcXFxBdbZtWsXvr6++Za98847\n+Pv789///vexT0eUJpePjw+WlpZ0796dXr168fLLL1OjRg0SEhJwcnLSP9/R0ZGEhASj57pv/Pjx\nDBkyhJ9//rnMMz0sV4sWLdi7dy8ajYaYmBjOnTtHXFxcgePl5ORUrserqFz3Ger9FRsby4ULF2jT\npg3Jyck4ODgA9z54UlJSAIo8NoZ8jz1OLoCcnByGDBnC8OHD9R+O5ZWrKMY+XsUp7d9klSsO8+fP\nZ/369QwZMoSMjAzMzc3zPX7mzBksLS1p1qyZftmnn37Kjh07WLduHadOnWLbtm3llissLAwTExOC\ng4PZu3cvq1evJiYmptAPEJVKZfRcAD/++CNbtmzhm2++Yd26dZw4caLccg0dOhQnJyeGDh3KggUL\naNeuHWq12ujHq6hcYLj3V0ZGBlOnTuWdd955aKuuqGNjqGP2uLkA9u/fz+bNm1m8eDELFiwgOjq6\n3HI9Sl5j5oJH+5usVAPvlYUmTZqwevVq4N4pgAMHDuR7PDAwsECrwdHREbjXtBs4cCBhYWH6Zp2h\nc+3cuZMePXpgZmaGvb097du35+zZszg7O+cbnTYhIUH/bcKYuVxcXPTHy97enr59+xIWFqY/1WLo\nXKamprzzzjv69UaOHEnDhg2xtbXNd7zi4+PL9XgVlQsM8/7Ky8tj6tSp+Pn50a9fP+De/0diYiIO\nDg4kJiZSq1Yt4N438sKOjZOTE8ePH9cvT0hIoHPnzkbPBX8fMxcXFzp37sz58+dp0KBBueQqyoN5\ny+JvsixyAY/0N1nlWg73rwTR6XQsW7aMkSNH6h/T6XTs2bMnX3HQaDT6ZlteXh4HDhzAzc2t3HI5\nOzsTEhKCoihkZmZy5swZGjdujIeHB1FRUcTExJCbm0tgYCDe3t5Gz5WZmam/QiczM5PDhw+X6/HK\nysoiMzMTgMOHD6NWq2natCkODg5YW1tz+vRpFEVh69at9O7d2+i5DPH+UhSFd999l8aNGzNu3Dj9\ncm9vb7Zu3QqQ7/XfX64oCqdPn6Z69eo4ODjQvXt3Dh06RGpqKqmpqRw6dIju3bsbPVdqaiq5ubkA\npKSkEBoaStOmTcstV1HK+m+yrHI96t/kEz3w3r/+9S+OHz/O7du3sbe354033iAzM5P169cD0Ldv\nX6ZPn65v+oWEhLB48WI2bNig30ZmZiajR48mLy8PnU5Ht27dmD179mONCluaXBkZGcyePZurV6+i\nKApDhgxhwoQJAAQFBbFgwQK0Wi1Dhw5l8uTJj5yprHLFxMTw+uuvA/dGghw4cGC55oqNjWX8+PGY\nmJjg6OjI/PnzqVevHgBnz55l9uzZZGdn07NnT+bMmfNYzf6yyGWI99fJkycZNWoUzZo1w8TERJ+1\ndevWvPnmm8TFxeHs7MzSpUupUaMGiqIwb948goODsbS0ZMGCBXh4eACwadMm/WXKkyZNYujQoUbP\nFRoaynvvvac/9TV27Fiee+65csuVlJTE0KFDSU9Px8TEBCsrK3bt2oWNjU2Z/k2WVa7bt28/0t/k\nE10chBBCPJoqd1pJCCFE8aQ4CCGEKECKgxBCiAKkOAghhChAioMQQogCpDiICmX27Nl88skn+Za9\n9NJL+stDy9u1a9fw9/cnICCAXbt25XvszJkzvP3228Vu486dOwVGySwrs2fPJjQ01CDbFlWbXMoq\nKpT09HQGDRrEZ599Rps2bfjpp5/49ddfWb16dZkMRaDRaEo1MNmyZctITk7m3//+9yPv8/r167zw\nwgscPny41M8tbV4hyoq0HESFYmNjwwcffMDs2bOJjIxk2bJlzJ8/X18YNm3axLBhwxg8eDAvvvgi\nUVFRAFy4cIHnn3+ewYMH4+vry5o1a/TbnDFjBh9++CHjx4/Pd0f8fenp6fq5KQYOHKgf/mLr1q2s\nXbuWXbt24e/vT2xsbL7nHTlyhOHDhwP3CoCnpyeffvopAQEB9O/fX/+Nft68edy5cwd/f39eeOEF\n4N7QCm+88QbDhg3Dz8+Pb775Rr/dnj178r///Y8xY8Ywb948Ro8enW+Yl99//11/x+zzzz/PwYMH\nAbh79y6zZ8/Wb3PhwoXodDouX77MoEGDgHt3Ybdr147vvvsOgB07dpSo9SOqoFIN8C1EOZk7d67S\nvn17ZePGjfplx44dUyZOnKjk5OQoiqIoe/fuVUaNGqUoyr3x7u8vvz/2/bVr1xRFUZTp06crw4YN\nUzIzMwvd18KFC5VZs2YpOp1OSUtLU3x8fJRDhw4piqIoS5YsUT755JNCn3f48GHlueeeUxRFUaKi\nopRmzZopQUFBiqIoyubNm/XZoqKilKeffjrfc0ePHq2cOnVKURRFycnJUUaMGKEcPXpUURRF6dGj\nh/LBBx/o1920aZMydepU/e+TJk1Stm/friiKoowcOVK/z5kzZyo7duxQFEVRtFqtMnXqVGXTpk2K\noiiKp6enkpycrJw4cUIZMWKE8uqrryqKoiizZ89WNm/eXOjrE1WbtFdFhTR+/Hh2797NsGHD9Mv2\n7dvH+fPn9UMlKIpCRkYGcG+Yk/fee49Lly6hUqm4desWFy9epFGjRgD0798fS0vLQvd15MgR5s2b\nh0qlonr16vj6+nLkyBE8PT1Llbl69er07NkTgDZt2vDZZ58Vul56ejqhoaH85z//0S/LyMjg6tWr\n+jkf/P399Y/179+fRYsWkZqailar5c8//yx02/v37+fcuXP6Vkh2drZ+MLouXbpw9OhRrl69ygsv\nvMCyZcvIy8vj2LFjvPHGG6V6naJqkOIgKiQTE5MCfQyKojB8+HCmTJlSYP3Fixfj7OzMokWLUKvV\njB07lpycHP3jVlZWRe5LUZQC+3qU/g0LCwv9z2q1Gq1WW+h6Op0OlUrFL7/8UmR/wj/zWltb88wz\nzxAYGEhubi79+vWjWg0O+nAAAAGNSURBVLVqhW53+fLl1K1bt8BjXbt25ejRo1y7do2RI0dy+PBh\nduzYgZmZGc7OzqV9qaIKkD4HUWncH43y/gQqWq1WP5taWloazs7OqNVqIiIiSnUFj6enp36wxfT0\ndHbv3s3TTz9dZrltbGzIzMzUFwtbW1vatm2b7wqmGzducOvWrSK3MXjwYLZs2cKWLVuKnAPY29ub\nFStW6PeTkpKin2OjW7duBAUFkZmZiYODA926deOrr77St1SEeJAUB1FpdO3alSlTpjBx4kQGDRqE\nn5+fvqP29ddfZ/369QwbNoxvvvmGjh07lni7U6ZMIS8vDz8/P0aOHMmwYcPKtDjY29vTv39/Bg4c\nqO+QXrJkCRcuXNB3gk+fPl0/rHJhunTpQkpKCrm5ubRt27bQdebMmYNOp8Pf3x8/Pz9eeeUVkpKS\nAKhfvz4WFhb649KtWzdu3LghxUEUSS5lFUIIUYC0HIQQQhQgxUEIIUQBUhyEEEIUIMVBCCFEAVIc\nhBBCFCDFQQghRAFSHIQQQhTw/47I1oVfeZXlAAAAAElFTkSuQmCC\n",
      "text/plain": [
       "<Figure size 432x288 with 1 Axes>"
      ]
     },
     "metadata": {},
     "output_type": "display_data"
    }
   ],
   "source": [
    "series.plot(color='C0')\n",
    "decorate(xlabel='Year of interview', \n",
    "         ylabel='% in favor',\n",
    "         title='Should marijuana be made legal?')"
   ]
  },
  {
   "cell_type": "markdown",
   "metadata": {},
   "source": [
    "### Group by cohort\n",
    "\n",
    "The variable `cohort` contains respondents' year of birth."
   ]
  },
  {
   "cell_type": "code",
   "execution_count": 23,
   "metadata": {},
   "outputs": [
    {
     "data": {
      "text/plain": [
       "1883.0      2\n",
       "1884.0      3\n",
       "1885.0      2\n",
       "1886.0      4\n",
       "1887.0     10\n",
       "1888.0      5\n",
       "1889.0     14\n",
       "1890.0     19\n",
       "1891.0     25\n",
       "1892.0     20\n",
       "1893.0     29\n",
       "1894.0     47\n",
       "1895.0     43\n",
       "1896.0     41\n",
       "1897.0     52\n",
       "1898.0     62\n",
       "1899.0     93\n",
       "1900.0    120\n",
       "1901.0    104\n",
       "1902.0    111\n",
       "1903.0    128\n",
       "1904.0    138\n",
       "1905.0    169\n",
       "1906.0    171\n",
       "1907.0    236\n",
       "1908.0    191\n",
       "1909.0    257\n",
       "1910.0    236\n",
       "1911.0    255\n",
       "1912.0    326\n",
       "         ... \n",
       "1969.0    813\n",
       "1970.0    809\n",
       "1971.0    691\n",
       "1972.0    649\n",
       "1973.0    671\n",
       "1974.0    641\n",
       "1975.0    570\n",
       "1976.0    542\n",
       "1977.0    536\n",
       "1978.0    483\n",
       "1979.0    590\n",
       "1980.0    476\n",
       "1981.0    467\n",
       "1982.0    413\n",
       "1983.0    342\n",
       "1984.0    335\n",
       "1985.0    371\n",
       "1986.0    278\n",
       "1987.0    306\n",
       "1988.0    205\n",
       "1989.0    227\n",
       "1990.0    185\n",
       "1991.0    188\n",
       "1992.0    107\n",
       "1993.0    116\n",
       "1994.0    116\n",
       "1995.0     89\n",
       "1996.0     50\n",
       "1997.0     53\n",
       "1998.0      6\n",
       "Name: cohort, Length: 116, dtype: int64"
      ]
     },
     "execution_count": 23,
     "metadata": {},
     "output_type": "execute_result"
    }
   ],
   "source": [
    "counts(gss['cohort'])"
   ]
  },
  {
   "cell_type": "markdown",
   "metadata": {},
   "source": [
    "Pulling together the code from the previous section, we can plot support for legalization by year of birth."
   ]
  },
  {
   "cell_type": "code",
   "execution_count": 24,
   "metadata": {},
   "outputs": [
    {
     "data": {
      "image/png": "iVBORw0KGgoAAAANSUhEUgAAAYIAAAEWCAYAAABrDZDcAAAABHNCSVQICAgIfAhkiAAAAAlwSFlz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\nI1dr/gAAAABJRU5ErkJggg==\n",
      "text/plain": [
       "<Figure size 432x288 with 1 Axes>"
      ]
     },
     "metadata": {},
     "output_type": "display_data"
    }
   ],
   "source": [
    "grouped = gss.groupby('cohort')\n",
    "series = grouped['grass'].mean()\n",
    "series.plot(color='C1')\n",
    "decorate(xlabel='Year of birth', \n",
    "         ylabel='% in favor',\n",
    "         title='Should marijuana be made legal?')"
   ]
  },
  {
   "cell_type": "markdown",
   "metadata": {},
   "source": [
    "Later generations are more likely to support legalization than earlier generations."
   ]
  },
  {
   "cell_type": "markdown",
   "metadata": {},
   "source": [
    "### Group by age\n",
    "\n",
    "Finally, let's see how support varies with age at time of interview."
   ]
  },
  {
   "cell_type": "code",
   "execution_count": 25,
   "metadata": {},
   "outputs": [
    {
     "data": {
      "image/png": "iVBORw0KGgoAAAANSUhEUgAAAYgAAAEWCAYAAAB8LwAVAAAABHNCSVQICAgIfAhkiAAAAAlwSFlz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\nOPT/rDT3PTVCuqsAAAAASUVORK5CYII=\n",
      "text/plain": [
       "<Figure size 432x288 with 1 Axes>"
      ]
     },
     "metadata": {},
     "output_type": "display_data"
    }
   ],
   "source": [
    "grouped = gss.groupby('age')\n",
    "series = grouped['grass'].mean()\n",
    "series.plot(color='C2')\n",
    "decorate(xlabel='Age at interview', \n",
    "         ylabel='% in favor',\n",
    "         title='Should marijuana be made legal?')"
   ]
  },
  {
   "cell_type": "markdown",
   "metadata": {},
   "source": [
    "Younger people are more likely to support legalization than old people.\n",
    "\n",
    "In general, it is not easy to separate period, cohort, and age effects, but there are ways.  We'll come back to this example to see how."
   ]
  }
 ],
 "metadata": {
  "kernelspec": {
   "display_name": "Python 3",
   "language": "python",
   "name": "python3"
  },
  "language_info": {
   "codemirror_mode": {
    "name": "ipython",
    "version": 3
   },
   "file_extension": ".py",
   "mimetype": "text/x-python",
   "name": "python",
   "nbconvert_exporter": "python",
   "pygments_lexer": "ipython3",
<<<<<<< HEAD
   "version": "3.6.3"
=======
   "version": "3.7.2"
>>>>>>> 92c88e52286effcece24d4370621890fc12ecb5a
  }
 },
 "nbformat": 4,
 "nbformat_minor": 2
}
