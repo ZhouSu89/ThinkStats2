{
 "cells": [
  {
   "cell_type": "markdown",
   "metadata": {},
   "source": [
    "# Examples and Exercises from Think Stats, 2nd Edition\n",
    "\n",
    "http://thinkstats2.com\n",
    "\n",
    "Copyright 2016 Allen B. Downey\n",
    "\n",
    "MIT License: https://opensource.org/licenses/MIT\n"
   ]
  },
  {
   "cell_type": "code",
   "execution_count": 2,
   "metadata": {
    "collapsed": true
   },
   "outputs": [],
   "source": [
    "from __future__ import print_function, division\n",
    "\n",
    "%matplotlib inline\n",
    "\n",
    "import numpy as np\n",
    "\n",
    "import nsfg\n",
    "import first\n",
    "import thinkstats2\n",
    "import thinkplot"
   ]
  },
  {
   "cell_type": "markdown",
   "metadata": {},
   "source": [
    "## Examples\n",
    "\n",
    "One more time, I'll load the data from the NSFG."
   ]
  },
  {
   "cell_type": "code",
   "execution_count": 3,
   "metadata": {
    "collapsed": true
   },
   "outputs": [],
   "source": [
    "live, firsts, others = first.MakeFrames()"
   ]
  },
  {
   "cell_type": "markdown",
   "metadata": {},
   "source": [
    "And compute the distribution of birth weight for first babies and others."
   ]
  },
  {
   "cell_type": "code",
   "execution_count": 5,
   "metadata": {},
   "outputs": [
    {
     "name": "stdout",
     "output_type": "stream",
     "text": [
      "Firsts 4413 4363\n",
      "Others 4735 4675\n"
     ]
    }
   ],
   "source": [
    "first_wgt = firsts.totalwgt_lb\n",
    "first_wgt_dropna = first_wgt.dropna()\n",
    "print('Firsts', len(first_wgt), len(first_wgt_dropna))\n",
    " \n",
    "other_wgt = others.totalwgt_lb\n",
    "other_wgt_dropna = other_wgt.dropna()\n",
    "print('Others', len(other_wgt), len(other_wgt_dropna))\n",
    "\n",
    "first_pmf = thinkstats2.Pmf(first_wgt_dropna, label='first')\n",
    "other_pmf = thinkstats2.Pmf(other_wgt_dropna, label='other')"
   ]
  },
  {
   "cell_type": "markdown",
   "metadata": {},
   "source": [
    "We can plot the PMFs on the same scale, but it is hard to see if there is a difference."
   ]
  },
  {
   "cell_type": "code",
   "execution_count": 6,
   "metadata": {},
   "outputs": [
    {
     "data": {
<<<<<<< HEAD
      "image/png": "iVBORw0KGgoAAAANSUhEUgAAAZIAAAEKCAYAAAA4t9PUAAAABHNCSVQICAgIfAhkiAAAAAlwSFlz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\n",
=======
      "image/png": "iVBORw0KGgoAAAANSUhEUgAAAZIAAAEKCAYAAAA4t9PUAAAABHNCSVQICAgIfAhkiAAAAAlwSFlzAAALEgAACxIB0t1+/AAAADl0RVh0U29mdHdhcmUAbWF0cGxvdGxpYiB2ZXJzaW9uIDMuMC4yLCBodHRwOi8vbWF0cGxvdGxpYi5vcmcvOIA7rQAAH95JREFUeJzt3X+cVXW97/HXuxmFm8e0EMsYDEpSAZOU0A6llhfFU0GWPMS8hTe7XDPM8uYJ66GPezx1rt7b8dfx1zFROZSpl5M1eVDK8EcaEUNggEgNRDliV/xF/gh17HP/WN+x7WbP7M2sWbP3zLyfj8c8Zu21vus7nzUw+73Xr+9SRGBmZtZbb6h3AWZmNrA5SMzMLBcHiZmZ5eIgMTOzXBwkZmaWi4PEzMxycZCYmVkuDhIzM8vFQWJmZrk017uA/rDPPvvEmDFj6l2GmdmAsmrVqicjYmS1dkMiSMaMGUNbW1u9yzAzG1Ak/b6Wdj60ZWZmuThIzMwsFweJmZnlMiTOkZiZ1eKVV16ho6ODHTt21LuUfjV8+HBaWlrYbbfderW+g8TMLOno6GDPPfdkzJgxSKp3Of0iInjqqafo6Ohg7NixverDh7bMzJIdO3YwYsSIIRMiAJIYMWJErr0wB4mZWYmhFCJd8m6zg8TMzHLxORIzs27Mu+aBPu3vys9/oGqbK664gmuuuYY//vGPfPWrX2X+/Pk19b1lyxZ+/vOf86lPfSpvmbvMQWJm1kCuvvpq7rzzzm5PfHd2dtLcvPNb95YtW7j55psdJGZmQ9kZZ5zB5s2bmTFjBp/97GfZtGkTV155JaeddhpvectbWL16NYcddhgzZszg7LPPBrLzG/fffz/z589nw4YNTJo0iTlz5vDlL3+53+p2kJiZNYhrr72Wu+66i3vuuYc77rjjdct+85vfcPfdd9PU1MTHPvYxrrrqKqZOncrzzz/P8OHDueiii/jWt76103r9wSfbzcwGgFmzZtHU1ATA1KlTOeecc7jiiit49tlnKx7q6k8OEjOzAWCPPfZ4bXr+/Plcf/31/PnPf+bII4/kkUceqWNlPrRlZjbgbNq0iUMOOYRDDjmE5cuX88gjjzB69Giee+65utTjIDEz60Ytl+vWw2WXXcY999xDU1MT48eP54QTTuANb3gDzc3NHHrooZx22mn9erJdEdFvP6xeJk+eHH6wlZlVs2HDBg4++OB6l1EXlbZd0qqImFxtXZ8jMTOzXBwkZmaWS6FBImm6pI2S2iXtdJ+/pGGSbk3LV0gak+ZPkbQmfT0k6cSSdbZIWpuW+XiVmVmdFXayXVITcBUwDegAVkpqjYiHS5qdDjwTEQdImg1cDJwMrAMmR0SnpP2AhyT9KCI603ofiogni6rdzMxqV+QeyRSgPSI2R8TLwC3AzLI2M4GFaXoxcKwkRcSLJaExHBj8VwSYmQ1QRQbJKODRktcdaV7FNik4tgMjACQdIWk9sBY4oyRYAvixpFWS5nb3wyXNldQmqW3btm19skFmZrazIu8jqfSklPI9i27bRMQKYIKkg4GFku6MiB3A1IjYKmlf4CeSHomI+3fqJOI64DrILv/NsyFmNjRdsmxTn/Z3zofftcvrPPvss9x8882ceeaZANx77711G1OrO0XukXQAo0tetwBbu2sjqRnYC3i6tEFEbABeACam11vT9yeA28kOoZmZDUrPPvssV199dZ/119nZWb3RLioySFYC4ySNlbQ7MBtoLWvTCsxJ0ycByyIi0jrNAJLeARwIbJG0h6Q90/w9gOPITsybmQ0Kl1xyCRMnTmTixIlcdtllzJ8/n02bNjFp0iTOPfdcAJ5//nlOOukkDjroIE499VS6bixftWoVRx99NIcffjjHH388jz/+OADHHHMMX/va1zj66KO5/PLL+7zmwg5tpSuu5gFLgSbghohYL+lCoC0iWoEFwCJJ7WR7IrPT6h8A5kt6BfgLcGZEPCnpncDt6fnCzcDNEXFXUdtgZtafVq1axY033siKFSuICI444gi+853vsG7dOtasWQNkh7ZWr17N+vXrefvb387UqVN58MEHOeKIIzjrrLP44Q9/yMiRI7n11lv5+te/zg033ABkezb33XdfIXUXOtZWRCwBlpTNu6Bkegcwq8J6i4BFFeZvBg7t+0rNzOrvgQce4MQTT3xtpN9PfOIT/OxnP9up3ZQpU2hpaQFg0qRJbNmyhb333pt169Yxbdo0AF599VX222+/19Y5+eSTC6vbgzaamTWIWsc+HDZs2GvTTU1NdHZ2EhFMmDCB5cuXV1yndBj6vuYhUszMGsRRRx3FD37wA1588UVeeOEFbr/9dqZOnVrT8PAHHngg27Ztey1IXnnlFdavX190yYD3SMzMutWby3XzOOywwzjttNOYMiW7GPVzn/schx9+OFOnTmXixImccMIJfOQjH6m47u67787ixYv54he/yPbt2+ns7ORLX/oSEyZMKLxuDyNvZpZ4GHkPI2/WsOZd80C9SzArjIPEzMxycZCYmZUYCof7y+XdZgeJmVkyfPhwnnrqqSEVJhHBU089xfDhw3vdh6/aMjNLWlpa6OjoYKiNGD58+PDXbnDsDQeJmVmy2267MXbs2HqXMeD40JaZmeXiIDErUF8/z8KsETlIzMwsFweJmZnl4iAxM7NcHCRmZpaLg8TMzHJxkJiZWS6FBomk6ZI2SmqXNL/C8mGSbk3LV0gak+ZPkbQmfT0k6cRa+zQzs/5VWJBIagKuAk4AxgOnSBpf1ux04JmIOAC4FLg4zV8HTI6IScB04F8lNdfYp5mZ9aMi90imAO0RsTkiXgZuAWaWtZkJLEzTi4FjJSkiXoyIzjR/ONA1glotfZqZWT8qMkhGAY+WvO5I8yq2ScGxHRgBIOkISeuBtcAZaXktfZqZWT8qMkhUYV752MzdtomIFRExAXgfcJ6k4TX2mXUszZXUJqltqI3kaWbWn4oMkg5gdMnrFmBrd20kNQN7AU+XNoiIDcALwMQa++xa77qImBwRk0eOHJljM8zMrCdFBslKYJyksZJ2B2YDrWVtWoE5afokYFlERFqnGUDSO4ADgS019mlmZv2osOeRRESnpHnAUqAJuCEi1ku6EGiLiFZgAbBIUjvZnsjstPoHgPmSXgH+ApwZEU8CVOqzqG0wM7PqCn2wVUQsAZaUzbugZHoHMKvCeouARbX2aWZm9eM7283MLBcHiVkO8655oN4lmNWdg8TMzHJxkJiZWS4OEjMzy8VBYmZmuThIzMwsFweJmZnl4iAxM7NcHCRmZpaLg8TMzHJxkJiZWS4OEjMzy8VBYmZmuThIzMwsFweJmZnl4iAxM7NcHCRmZpaLg8TMzHIpNEgkTZe0UVK7pPkVlg+TdGtavkLSmDR/mqRVktam7x8uWefe1Oea9LVvkdtgZmY9ay6qY0lNwFXANKADWCmpNSIeLml2OvBMRBwgaTZwMXAy8CTwsYjYKmkisBQYVbLeqRHRVlTtZmZWuyL3SKYA7RGxOSJeBm4BZpa1mQksTNOLgWMlKSJWR8TWNH89MFzSsAJrNTOzXioySEYBj5a87uD1exWvaxMRncB2YERZm08CqyPipZJ5N6bDWudLUqUfLmmupDZJbdu2bcuzHWZm1oMig6TSG3zsShtJE8gOd/33kuWnRsQhwAfT16cr/fCIuC4iJkfE5JEjR+5S4WZmVrsig6QDGF3yugXY2l0bSc3AXsDT6XULcDvwmYjY1LVCRDyWvj8H3Ex2CM3MzOqkyCBZCYyTNFbS7sBsoLWsTSswJ02fBCyLiJC0N/AfwHkR8WBXY0nNkvZJ07sBHwXWFbgNZmZWRWFBks55zCO74moDcFtErJd0oaQZqdkCYISkduAcoOsS4XnAAcD5ZZf5DgOWSvo1sAZ4DPh2UdtgZmbVFXb5L0BELAGWlM27oGR6BzCrwnrfAL7RTbeH92WNZmaWj+9sNzOzXBwkZmaWi4PEzMxycZCYVTDvmgfqXYLZgOEgMTOzXBwkZn3kkmWbqjcyG4QcJGYNxIfUbCBykJiZWS4OEjMzy8VBYmZmuThIzMwsFweJmZnl4iAxqxNfoWWDhYPEzMxycZCYmVkuDhIzM8vFQWJmZrn0GCSSbiqZntNDUzMzG6Kq7ZEcWjJ99q52Lmm6pI2S2iXNr7B8mKRb0/IVksak+dMkrZK0Nn3/cMk6h6f57ZKukKRdrcvMzPpOtSCJ3nYsqQm4CjgBGA+cIml8WbPTgWci4gDgUuDiNP9J4GMRcQgwB1hUss41wFxgXPqa3tsazSrxZblmu6ZakLSkT/3/UjL92leVdacA7RGxOSJeBm4BZpa1mQksTNOLgWMlKSJWR8TWNH89MDztvewHvCkilkdEAP8GfLzGbTUrnEPIhqLmKsvPLZlu28W+RwGPlrzuAI7ork1EdEraDowg2yPp8klgdUS8JGlU6qe0z1G7WJeZmfWhHoMkIhb2tLyKSucuyg+V9dhG0gSyw13H7UKfXevOJTsExv7771+tVjMz66Ueg0RSa0/LI2JGD4s7gNElr1uArd206ZDUDOwFPJ1+dgtwO/CZiNhU0r6lSp9dtV0HXAcwefLkXp/rMTOznlU7tPV+skNP3wNWUHmPoDsrgXGSxgKPAbOBT5W1aSU7mb4cOAlYFhEhaW/gP4DzIuLBrsYR8bik5yQdmer5DPAvu1CTmZn1sWon298GfA2YCFwOTAOejIj7IuK+nlaMiE5gHrAU2ADcFhHrJV0oqWtPZgEwQlI7cA7QdYnwPOAA4HxJa9LXvmnZ54HrgXZgE3Bn7ZtrVjyfcLehpto5kleBu4C7JA0DTgHulXRhRFTdE4iIJcCSsnkXlEzvAGZVWO8bwDe66bONLNjMzKwBVDu0RQqQj5CFyBjgCuD7xZZlZmYDRbWT7QvJPv3fCfxDRKzrl6rMzGzAqLZH8mngBeDdwNmSuq5+EhAR8aYiizMzs8ZX7RyJRwc2M7MeVTu0NRw4g+wKql8DN6SrsczMzIDql/8uBCYDa4G/A/658IrMzGxAqXaOZHwagRdJC4BfFl+S2eBwybJN1RuZDQLV9khe6ZrwIS0b6nyjoVllVR9sJelP6es54D1d05L+1B8Fmg1G5Xsr3nuxgazaVVtN/VWImZkNTL6816xBeS/FBgoHiZmZ5eIgMTOzXBwkZmaWi4PEzMxycZCY1cD3kJh1z0FilvgqKbPecZCY1ZH3dGwwcJCYFcxhYYNdoUEiabqkjZLaJc2vsHyYpFvT8hWSxqT5IyTdI+l5SVeWrXNv6nNN+tq3yG0wayQ+/GaNqOoz23tLUhNwFTAN6ABWSmqNiIdLmp0OPBMRB0iaDVwMnAzsAM4ne8zvxArdnxoRbUXVbmZmtStyj2QK0B4RmyPiZeAWYGZZm5lkzzwBWAwcK0kR8UJEPEAWKGaF6e/DTt6jsMGoyCAZBTxa8rojzavYJg1Tvx0YUUPfN6bDWudLUl8Ua2ZmvVNkkFR6g49etCl3anrY1gfT16cr/nBprqQ2SW3btm2rWqxZrS5ZtsnDwJuVKDJIOoDRJa9bgK3dtZHUDOwFPN1TpxHxWPr+HHAz2SG0Su2ui4jJETF55MiRvdoAMweEWXVFBslKYJyksZJ2B2YDrWVtWoE5afokYFlEdLtHIqlZ0j5pejfgo8C6Pq/czMxqVthVWxHRKWkesBRoAm6IiPWSLgTaIqIVWAAsktROticyu2t9SVuANwG7S/o4cBzwe2BpCpEm4G7g20Vtg5mZVVdYkABExBJgSdm8C0qmdwCzull3TDfdHt5X9ZnVgw+X2WDjO9ttyPIbulnfcJCYmVkuDhIzM8vFQWLWwHz4zQYCB4lZiYH4xj0Qa7bBxUFiZma5OEjMzCwXB4lZg+tuhGI/MMsahYPErJfq+UbuELFG4iAxaxA+aW4DlYPEzMxycZDYkNdoh4karR6zahwkZlX4kJNZzxwkZoOQw8/6k4PEzMxycZCYmVkuDhKzAcAn4K2ROUjMBhif/7BG4yAxM7NcCg0SSdMlbZTULml+heXDJN2alq+QNCbNHyHpHknPS7qybJ3DJa1N61whSUVugzU2H/LpmX8/1h8KCxJJTcBVwAnAeOAUSePLmp0OPBMRBwCXAhen+TuA84GvVOj6GmAuMC59Te/76s3MrFZF7pFMAdojYnNEvAzcAswsazMTWJimFwPHSlJEvBARD5AFymsk7Qe8KSKWR0QA/wZ8vMBtMDOzKooMklHAoyWvO9K8im0iohPYDoyo0mdHlT4BkDRXUpuktm3btu1i6WYDjw9jWb0UGSSVzl1EL9r0qn1EXBcRkyNi8siRI3vo0szM8igySDqA0SWvW4Ct3bWR1AzsBTxdpc+WKn2amVk/KjJIVgLjJI2VtDswG2gta9MKzEnTJwHL0rmPiiLiceA5SUemq7U+A/yw70s3M7NaFRYk6ZzHPGApsAG4LSLWS7pQ0ozUbAEwQlI7cA7w2iXCkrYAlwCnSeooueLr88D1QDuwCbizqG2wxuAb8MwaW3ORnUfEEmBJ2bwLSqZ3ALO6WXdMN/PbgIl9V6WZmeXhO9vNBinvyVl/cZCYmVkuDhKzQcB7H1ZPDhIzM8vFQWI2iPjudqsHB4mZmeXiIDEzs1wcJGZDiE/KWxEcJGZmlouDxMzMcnGQ2JDkQzxmfcdBYmZmuThIzMwsFweJmZnl4iCxAcN3bZs1JgeJmZnl4iAxM7NcHCQ2JMy75gEfGjMrSKFBImm6pI2S2iXNr7B8mKRb0/IVksaULDsvzd8o6fiS+VskrZW0RlJbkfXbwOXQMOs/hT2zXVITcBUwDegAVkpqjYiHS5qdDjwTEQdImg1cDJwsaTwwG5gAvB24W9K7I+LVtN6HIuLJomo3M7PaFblHMgVoj4jNEfEycAsws6zNTGBhml4MHCtJaf4tEfFSRPwOaE/9mVkBfKe/5VFkkIwCHi153ZHmVWwTEZ3AdmBElXUD+LGkVZLmFlC32aDm0LC+VtihLUAV5kWNbXpad2pEbJW0L/ATSY9ExP07/fAsZOYC7L///rVXbWZmu6TIPZIOYHTJ6xZga3dtJDUDewFP97RuRHR9fwK4nW4OeUXEdRExOSImjxw5MvfG2MDlT+BmxSoySFYC4ySNlbQ72cnz1rI2rcCcNH0SsCwiIs2fna7qGguMA34paQ9JewJI2gM4DlhX4DbYAOQrtiqrJVD9u7PeKOzQVkR0SpoHLAWagBsiYr2kC4G2iGgFFgCLJLWT7YnMTuuul3Qb8DDQCXwhIl6V9Fbg9ux8PM3AzRFxV1HbYGZm1RV5joSIWAIsKZt3Qcn0DmBWN+t+E/hm2bzNwKF9X6kNND5c1fe8N2K95TvbbUDp6c3ukmWbHDB9pLvfo3+/VomDxGyI8h6I9RUHiZmZ5eIgMRvkvOdhRXOQWJ/zcXSzocVBYmZmuThIbMDzoRuz+nKQmA1xPhRpeTlIrF9578Fs8HGQWEN8Ii0qYBph28wGOweJmVXkELZaOUjMzCwXB4nVVa2fev3puP78b2DdcZBYj/ri3EXXG1B3ffkEfP+r9XfufzOrhYPE+p3fhMwGFweJFaZaYPhQycDg4LdqHCTWUErDxW9gA0OlDwT+kDC0OEisolreCPxmYXkvlvD/ocHBQWKv6c0ewCXLNvX5noPfXMwGlkKDRNJ0SRsltUuaX2H5MEm3puUrJI0pWXZemr9R0vG19jkQ9XRVUy3zql0V1QgcDkNT+f/JRv4/ar1XWJBIagKuAk4AxgOnSBpf1ux04JmIOAC4FLg4rTsemA1MAKYDV0tqqrHPhlX+Zrqrf1RFvhlXC6xq5y76+g3DbziNq7t//675vT2M1ZeXmlfqz/+nilPkHskUoD0iNkfEy8AtwMyyNjOBhWl6MXCsJKX5t0TESxHxO6A99VdLn2Zm1o+KDJJRwKMlrzvSvIptIqIT2A6M6GHdWvrsF+Wf1rv7tFX6Sa2rbfn6Pc2vdV6leir9jK551T499pYPYVmXvDczVtrLqWXPp7d19aVa/44HC0VEMR1Ls4DjI+Jz6fWngSkRcVZJm/WpTUd6vYlsr+NCYHlEfCfNXwAsIQu+Hvss6XsuMDe9PBDYuIubsA/w5C6u058aub5Grg1cXx6NXBu4vjwq1faOiBhZbcXmYuoBsr2F0SWvW4Ct3bTpkNQM7AU8XWXdan0CEBHXAdf1tnhJbRExubfrF62R62vk2sD15dHItYHryyNPbUUe2loJjJM0VtLuZCfPW8vatAJz0vRJwLLIdpFagdnpqq6xwDjglzX2aWZm/aiwPZKI6JQ0D1gKNAE3RMR6SRcCbRHRCiwAFklqJ9sTmZ3WXS/pNuBhoBP4QkS8ClCpz6K2wczMqivy0BYRsYTs3EbpvAtKpncAs7pZ95vAN2vpsyC9PizWTxq5vkauDVxfHo1cG7i+PHp/KqCok+1mZjY0eIgUMzPLxUFSppGHYJE0WtI9kjZIWi/p7HrXVEkahWC1pDvqXUs5SXtLWizpkfR7fH+9a+oi6cvp33WdpO9JGl7nem6Q9ISkdSXz3iLpJ5J+m76/ucHq+z/p3/bXkm6XtHcj1Vey7CuSQtI+jVSbpLPS+996Sf+71v4cJCUGwBAsncD/iIiDgSOBLzRYfV3OBjbUu4huXA7cFREHAYfSIHVKGgV8EZgcERPJLiaZXd+quIlsiKJS84GfRsQ44Kfpdb3cxM71/QSYGBHvAX4DnNffRZW4iZ3rQ9JoYBrwh/4uqMRNlNUm6UNkI4W8JyImAN+qtTMHyes19BAsEfF4RPwqTT9H9iZYlzv7uyOpBfgIcH29aykn6U3AUWRXCxIRL0fEs/Wt6nWagf+U7ql6I93cI9VfIuJ+sqspS5UOa7QQ+Hi/FlWiUn0R8eM0SgbAL8juNauLbn5/kI0r+PdA3U5Qd1Pb54GLIuKl1OaJWvtzkLxewwzBUk0aKfm9wIr6VrKTy8j+SP5S70IqeCewDbgxHXq7XtIe9S4KICIeI/sE+AfgcWB7RPy4vlVV9NaIeByyDzbAvnWupyefBe6sdxGlJM0AHouIh+pdSwXvBj6YRmK/T9L7al3RQfJ6qjCv4S5rk/Q3wL8DX4qIP9W7ni6SPgo8ERGr6l1LN5qBw4BrIuK9wAvU99DMa9K5hpnAWODtwB6S/kt9qxq4JH2d7FDwd+tdSxdJbwS+DlxQrW2dNANvJjtsfi5wWxpEtyoHyevVMqxLXUnajSxEvhsR3693PWWmAjMkbSE7LPhhSd+pb0mv0wF0RETXXtxismBpBP8Z+F1EbIuIV4DvA39b55oq+X+S9gNI32s+/NFfJM0BPgqcGo11f8O7yD4oPJT+RlqAX0l6W12r+qsO4PuR+SXZUYWaLgZwkLxeQw/Bkj4dLAA2RMQl9a6nXEScFxEtETGG7He3LCIa5lN1RPwReFTSgWnWsWSjJzSCPwBHSnpj+nc+lga5EKBM6bBGc4Af1rGWnUiaDnwVmBERL9a7nlIRsTYi9o2IMelvpAM4LP2/bAQ/AD4MIOndwO7UOMCkg6REOknXNQTLBuC2BhuCZSrwabJP+mvS19/Vu6gB5izgu5J+DUwC/qnO9QCQ9pIWA78C1pL9bdb1LmhJ3wOWAwdK6pB0OnARME3Sb8muPLqoweq7EtgT+En6+7i2weprCN3UdgPwznRJ8C3AnFr36Hxnu5mZ5eI9EjMzy8VBYmZmuThIzMwsFweJmZnl4iAxM7NcHCQ2aEm6VNKXSl4vlXR9yet/lnROlT5+XsPP2VJpFFdJx0jq9qZCSR+XVLe7nCU9X2X53fUc3dcGDgeJDWY/J90dLukNZHfpTihZ/rfAgz11EBF57i4/hp7vTv974Ooc/RdtEXBmvYuwxucgscHsQf76Rj4BWAc8J+nNkoYBBwOrASSdK2lleo7FP3R10PWpXdIbJF2dntNwh6Qlkk4q+VlnSfqVpLWSDkqDap4BfDndGPfB0sLSncMvRcST6fVNkq6V9DNJv0njliFpuKQbU7+r01DfSDpN0pUl/d0h6ZiumiV9U9JDkn4h6a1p/lhJy9N2/mPJuvtJuj/Vua6k1lbglF7/9m3IcJDYoBURW4FOSfuTBcpystGS3w9MBn4dES9LOg4YR/YYgUnA4ZKOKuvuE8AY4BDgc6mPUk9GxGHANcBXImILcC1waURMioiflbWfSnYXe6kxwNFkw/Bfq+zBVl9I23II2Zv6QlV/4NUewC8i4lDgfuC/pfmXkw1Y+T6gdFiOTwFLI2IS2TNa1qSf+QwwTNKIKj/PhjgHiQ12XXslXUGyvOR11/mP49LXarI394PIgqXUB4D/GxF/SWMj3VO2vGsAzVVkgVDNfmRD2pe6LfX/W2BzquMDZIeYiIhHgN+TDffdk5eBrqdTltYzFfheml5U0n4l8F8l/U/gkPSsmy5PkI1GbNYtB4kNdl3nSQ4hO7T1C7K9idLzIwL+V9pzmBQRB0TEgrJ+qg2n/VL6/irZcNzV/Bko37MoH68oevi5nbz+77e0r1dKxkgqr2enMZHSQ46OAh4DFkn6TFm/f+6mBjPAQWKD34NkQ4o/HRGvRsTTwN5kYbI8tVkKfDY95wVJoySVP7DpAeCT6VzJW8lOpFfzHNkAgpVsAA4omzcr9f8usodwbSQ7NHVqquvdwP5p/hZgUmo/muywXDUP8tfH957aNVPSO8ieI/NtstGlD0vzBbwt/SyzbjlIbLBbS3a11i/K5m3vOtGdnkR4M7Bc0lqyUXjLA+DfyYb9Xgf8K9m5lu1VfvaPgBMrnWwnC4j3pjfrLhuB+8ie6ndGROwgu6qrKdV1K3BaehTqg8Dv0rZ8i53Pt1RyNvAFSSuBvUrmHwOskbQa+CTZuRSAw8nOtXRi1gOP/mtWI0l/ExHPp5PPvwSm5nmWhKTLgR9FxN2SbgLuiIjFfVRubqm+1oj4ab1rscZWy7FcM8vcIWlvsgf+/GMfPJDon4Aj8pdVmHUOEauF90jMzCwXnyMxM7NcHCRmZpaLg8TMzHJxkJiZWS4OEjMzy8VBYmZmufx/pOoFEALlEIcAAAAASUVORK5CYII=\n",
>>>>>>> 92c88e52286effcece24d4370621890fc12ecb5a
      "text/plain": [
       "<Figure size 432x288 with 1 Axes>"
      ]
     },
     "metadata": {
      "needs_background": "light"
     },
     "output_type": "display_data"
    }
   ],
   "source": [
    "width = 0.4 / 16\n",
    "\n",
    "# plot PMFs of birth weights for first babies and others\n",
    "thinkplot.PrePlot(2)\n",
    "thinkplot.Hist(first_pmf, align='right', width=width)\n",
    "thinkplot.Hist(other_pmf, align='left', width=width)\n",
    "thinkplot.Config(xlabel='Weight (pounds)', ylabel='PMF')"
   ]
  },
  {
   "cell_type": "markdown",
   "metadata": {},
   "source": [
    "`PercentileRank` computes the fraction of `scores` less than or equal to `your_score`."
   ]
  },
  {
   "cell_type": "code",
   "execution_count": 7,
   "metadata": {
    "collapsed": true
   },
   "outputs": [],
   "source": [
    "def PercentileRank(scores, your_score):\n",
    "    count = 0\n",
    "    for score in scores:\n",
    "        if score <= your_score:\n",
    "            count += 1\n",
    "\n",
    "    percentile_rank = 100.0 * count / len(scores)\n",
    "    return percentile_rank"
   ]
  },
  {
   "cell_type": "markdown",
   "metadata": {},
   "source": [
    "If this is the list of scores."
   ]
  },
  {
   "cell_type": "code",
   "execution_count": 8,
   "metadata": {
    "collapsed": true
   },
   "outputs": [],
   "source": [
    "t = [55, 66, 77, 88, 99]"
   ]
  },
  {
   "cell_type": "markdown",
   "metadata": {},
   "source": [
    "And you got the 88, your percentile rank is 80."
   ]
  },
  {
   "cell_type": "code",
   "execution_count": 9,
   "metadata": {},
   "outputs": [
    {
     "data": {
      "text/plain": [
       "80.0"
      ]
     },
     "execution_count": 9,
     "metadata": {},
     "output_type": "execute_result"
    }
   ],
   "source": [
    "PercentileRank(t, 88)"
   ]
  },
  {
   "cell_type": "markdown",
   "metadata": {},
   "source": [
    "`Percentile` takes a percentile rank and computes the corresponding percentile. "
   ]
  },
  {
   "cell_type": "code",
   "execution_count": 10,
   "metadata": {
    "collapsed": true
   },
   "outputs": [],
   "source": [
    "def Percentile(scores, percentile_rank):\n",
    "    scores.sort()\n",
    "    for score in scores:\n",
    "        if PercentileRank(scores, score) >= percentile_rank:\n",
    "            return score"
   ]
  },
  {
   "cell_type": "markdown",
   "metadata": {},
   "source": [
    "The median is the 50th percentile, which is 77."
   ]
  },
  {
   "cell_type": "code",
   "execution_count": 11,
   "metadata": {},
   "outputs": [
    {
     "data": {
      "text/plain": [
       "77"
      ]
     },
     "execution_count": 11,
     "metadata": {},
     "output_type": "execute_result"
    }
   ],
   "source": [
    "Percentile(t, 50)"
   ]
  },
  {
   "cell_type": "markdown",
   "metadata": {},
   "source": [
    "Here's a more efficient way to compute percentiles."
   ]
  },
  {
   "cell_type": "code",
   "execution_count": 12,
   "metadata": {
    "collapsed": true
   },
   "outputs": [],
   "source": [
    "def Percentile2(scores, percentile_rank):\n",
    "    scores.sort()\n",
    "    index = percentile_rank * (len(scores)-1) // 100\n",
    "    return scores[index]"
   ]
  },
  {
   "cell_type": "markdown",
   "metadata": {},
   "source": [
    "Let's hope we get the same answer."
   ]
  },
  {
   "cell_type": "code",
   "execution_count": 13,
   "metadata": {},
   "outputs": [
    {
     "data": {
      "text/plain": [
       "77"
      ]
     },
     "execution_count": 13,
     "metadata": {},
     "output_type": "execute_result"
    }
   ],
   "source": [
    "Percentile2(t, 50)"
   ]
  },
  {
   "cell_type": "markdown",
   "metadata": {},
   "source": [
    "The Cumulative Distribution Function (CDF) is almost the same as `PercentileRank`.  The only difference is that the result is 0-1 instead of 0-100."
   ]
  },
  {
   "cell_type": "code",
   "execution_count": 14,
   "metadata": {
    "collapsed": true
   },
   "outputs": [],
   "source": [
    "def EvalCdf(sample, x):\n",
    "    count = 0.0\n",
    "    for value in sample:\n",
    "        if value <= x:\n",
    "            count += 1\n",
    "\n",
    "    prob = count / len(sample)\n",
    "    return prob"
   ]
  },
  {
   "cell_type": "markdown",
   "metadata": {},
   "source": [
    "In this list"
   ]
  },
  {
   "cell_type": "code",
   "execution_count": 15,
   "metadata": {
    "collapsed": true
   },
   "outputs": [],
   "source": [
    "t = [1, 2, 2, 3, 5]"
   ]
  },
  {
   "cell_type": "markdown",
   "metadata": {},
   "source": [
    "We can evaluate the CDF for various values:"
   ]
  },
  {
   "cell_type": "code",
   "execution_count": 16,
   "metadata": {},
   "outputs": [
    {
     "data": {
      "text/plain": [
       "(0.0, 0.2, 0.6, 0.8, 0.8, 1.0)"
      ]
     },
     "execution_count": 16,
     "metadata": {},
     "output_type": "execute_result"
    }
   ],
   "source": [
    "EvalCdf(t, 0), EvalCdf(t, 1), EvalCdf(t, 2), EvalCdf(t, 3), EvalCdf(t, 4), EvalCdf(t, 5)"
   ]
  },
  {
   "cell_type": "markdown",
   "metadata": {},
   "source": [
    "Here's an example using real data, the distribution of pregnancy length for live births."
   ]
  },
  {
   "cell_type": "code",
   "execution_count": 17,
   "metadata": {},
   "outputs": [
    {
     "data": {
<<<<<<< HEAD
      "image/png": "iVBORw0KGgoAAAANSUhEUgAAAYUAAAEKCAYAAAD9xUlFAAAABHNCSVQICAgIfAhkiAAAAAlwSFlz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\n",
=======
      "image/png": "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\n",
>>>>>>> 92c88e52286effcece24d4370621890fc12ecb5a
      "text/plain": [
       "<Figure size 432x288 with 1 Axes>"
      ]
     },
     "metadata": {
      "needs_background": "light"
     },
     "output_type": "display_data"
    }
   ],
   "source": [
    "cdf = thinkstats2.Cdf(live.prglngth, label='prglngth')\n",
    "thinkplot.Cdf(cdf)\n",
    "thinkplot.Config(xlabel='Pregnancy length (weeks)', ylabel='CDF', loc='upper left')"
   ]
  },
  {
   "cell_type": "markdown",
   "metadata": {},
   "source": [
    "`Cdf` provides `Prob`, which evaluates the CDF; that is, it computes the fraction of values less than or equal to the given value.  For example, 94% of pregnancy lengths are less than or equal to 41."
   ]
  },
  {
   "cell_type": "code",
   "execution_count": 18,
   "metadata": {},
   "outputs": [
    {
     "data": {
      "text/plain": [
       "0.94064276344556186"
      ]
     },
     "execution_count": 18,
     "metadata": {},
     "output_type": "execute_result"
    }
   ],
   "source": [
    "cdf.Prob(41)"
   ]
  },
  {
   "cell_type": "markdown",
   "metadata": {
    "collapsed": true
   },
   "source": [
    "`Value` evaluates the inverse CDF; given a fraction, it computes the corresponding value.  For example, the median is the value that corresponds to 0.5."
   ]
  },
  {
   "cell_type": "code",
   "execution_count": 19,
   "metadata": {},
   "outputs": [
    {
     "data": {
      "text/plain": [
       "39"
      ]
     },
     "execution_count": 19,
     "metadata": {},
     "output_type": "execute_result"
    }
   ],
   "source": [
    "cdf.Value(0.5)"
   ]
  },
  {
   "cell_type": "markdown",
   "metadata": {},
   "source": [
    "In general, CDFs are a good way to visualize distributions.  They are not as noisy as PMFs, and if you plot several CDFs on the same axes, any differences between them are apparent."
   ]
  },
  {
   "cell_type": "code",
   "execution_count": 20,
   "metadata": {},
   "outputs": [
    {
     "data": {
<<<<<<< HEAD
      "image/png": "iVBORw0KGgoAAAANSUhEUgAAAYUAAAEKCAYAAAD9xUlFAAAABHNCSVQICAgIfAhkiAAAAAlwSFlz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\nBTMzK3NSMDOzsv8PLMIN1j3eQh8AAAAASUVORK5CYII=\n",
=======
      "image/png": "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\n",
>>>>>>> 92c88e52286effcece24d4370621890fc12ecb5a
      "text/plain": [
       "<Figure size 432x288 with 1 Axes>"
      ]
     },
     "metadata": {
      "needs_background": "light"
     },
     "output_type": "display_data"
    }
   ],
   "source": [
    "first_cdf = thinkstats2.Cdf(firsts.totalwgt_lb, label='first')\n",
    "other_cdf = thinkstats2.Cdf(others.totalwgt_lb, label='other')\n",
    "\n",
    "thinkplot.PrePlot(2)\n",
    "thinkplot.Cdfs([first_cdf, other_cdf])\n",
    "thinkplot.Config(xlabel='Weight (pounds)', ylabel='CDF')"
   ]
  },
  {
   "cell_type": "markdown",
   "metadata": {},
   "source": [
    "In this example, we can see that first babies are slightly, but consistently, lighter than others.\n",
    "\n",
    "We can use the CDF of birth weight to compute percentile-based statistics."
   ]
  },
  {
   "cell_type": "code",
   "execution_count": 22,
   "metadata": {
    "collapsed": true
   },
   "outputs": [],
   "source": [
    "weights = live.totalwgt_lb\n",
    "live_cdf = thinkstats2.Cdf(weights, label='live')"
   ]
  },
  {
   "cell_type": "markdown",
   "metadata": {},
   "source": [
    "Again, the median is the 50th percentile."
   ]
  },
  {
   "cell_type": "code",
   "execution_count": 23,
   "metadata": {},
   "outputs": [
    {
     "data": {
      "text/plain": [
       "7.375"
      ]
     },
     "execution_count": 23,
     "metadata": {},
     "output_type": "execute_result"
    }
   ],
   "source": [
    "median = live_cdf.Percentile(50)\n",
    "median"
   ]
  },
  {
   "cell_type": "markdown",
   "metadata": {},
   "source": [
    "The interquartile range is the interval from the 25th to 75th percentile."
   ]
  },
  {
   "cell_type": "code",
   "execution_count": 24,
   "metadata": {},
   "outputs": [
    {
     "data": {
      "text/plain": [
       "(6.5, 8.125)"
      ]
     },
     "execution_count": 24,
     "metadata": {},
     "output_type": "execute_result"
    }
   ],
   "source": [
    "iqr = (live_cdf.Percentile(25), live_cdf.Percentile(75))\n",
    "iqr"
   ]
  },
  {
   "cell_type": "markdown",
   "metadata": {},
   "source": [
    "We can use the CDF to look up the percentile rank of a particular value.  For example, my second daughter was 10.2 pounds at birth, which is near the 99th percentile."
   ]
  },
  {
   "cell_type": "code",
   "execution_count": 25,
   "metadata": {},
   "outputs": [
    {
     "data": {
      "text/plain": [
       "98.827174153573807"
      ]
     },
     "execution_count": 25,
     "metadata": {},
     "output_type": "execute_result"
    }
   ],
   "source": [
    "live_cdf.PercentileRank(10.2)"
   ]
  },
  {
   "cell_type": "markdown",
   "metadata": {},
   "source": [
    "If we draw a random sample from the observed weights and map each weigh to its percentile rank."
   ]
  },
  {
   "cell_type": "code",
   "execution_count": 26,
   "metadata": {
    "collapsed": true
   },
   "outputs": [],
   "source": [
    "sample = np.random.choice(weights, 100, replace=True)\n",
    "ranks = [live_cdf.PercentileRank(x) for x in sample]"
   ]
  },
  {
   "cell_type": "markdown",
   "metadata": {},
   "source": [
    "The resulting list of ranks should be approximately uniform from 0-1."
   ]
  },
  {
   "cell_type": "code",
   "execution_count": 27,
   "metadata": {},
   "outputs": [
    {
     "name": "stderr",
     "output_type": "stream",
     "text": [
      "No handles with labels found to put in legend.\n"
     ]
    },
    {
     "data": {
<<<<<<< HEAD
      "image/png": "iVBORw0KGgoAAAANSUhEUgAAAYUAAAEKCAYAAAD9xUlFAAAABHNCSVQICAgIfAhkiAAAAAlwSFlz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\nSUVORK5CYII=\n",
=======
      "image/png": "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\n",
>>>>>>> 92c88e52286effcece24d4370621890fc12ecb5a
      "text/plain": [
       "<Figure size 432x288 with 1 Axes>"
      ]
     },
     "metadata": {
      "needs_background": "light"
     },
     "output_type": "display_data"
    }
   ],
   "source": [
    "rank_cdf = thinkstats2.Cdf(ranks)\n",
    "thinkplot.Cdf(rank_cdf)\n",
    "thinkplot.Config(xlabel='Percentile rank', ylabel='CDF')"
   ]
  },
  {
   "cell_type": "markdown",
   "metadata": {},
   "source": [
    "That observation is the basis of `Cdf.Sample`, which generates a random sample from a Cdf.  Here's an example."
   ]
  },
  {
   "cell_type": "code",
   "execution_count": 28,
   "metadata": {},
   "outputs": [
    {
     "data": {
<<<<<<< HEAD
      "image/png": "iVBORw0KGgoAAAANSUhEUgAAAYUAAAEKCAYAAAD9xUlFAAAABHNCSVQICAgIfAhkiAAAAAlwSFlz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\n",
=======
      "image/png": "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\n",
>>>>>>> 92c88e52286effcece24d4370621890fc12ecb5a
      "text/plain": [
       "<Figure size 432x288 with 1 Axes>"
      ]
     },
     "metadata": {
      "needs_background": "light"
     },
     "output_type": "display_data"
    }
   ],
   "source": [
    "resample = live_cdf.Sample(1000)\n",
    "thinkplot.Cdf(live_cdf)\n",
    "thinkplot.Cdf(thinkstats2.Cdf(resample, label='resample'))\n",
    "thinkplot.Config(xlabel='Birth weight (pounds)', ylabel='CDF')"
   ]
  },
  {
   "cell_type": "markdown",
   "metadata": {},
   "source": [
    "This confirms that the random sample has the same distribution as the original data."
   ]
  },
  {
   "cell_type": "markdown",
   "metadata": {
    "collapsed": true
   },
   "source": [
    "## Exercises"
   ]
  },
  {
   "cell_type": "markdown",
   "metadata": {
    "collapsed": true
   },
   "source": [
    "**Exercise:** How much did you weigh at birth? If you don’t know, call your mother or someone else who knows. Using the NSFG data (all live births), compute the distribution of birth weights and use it to find your percentile rank. If you were a first baby, find your percentile rank in the distribution for first babies. Otherwise use the distribution for others. If you are in the 90th percentile or higher, call your mother back and apologize."
   ]
  },
  {
   "cell_type": "code",
   "execution_count": 32,
   "metadata": {},
   "outputs": [
    {
     "data": {
      "text/plain": [
       "41.806096722438689"
      ]
     },
     "execution_count": 32,
     "metadata": {},
     "output_type": "execute_result"
    }
   ],
   "source": [
    "first_cdf.PercentileRank(7)"
   ]
  },
  {
   "cell_type": "code",
   "execution_count": null,
   "metadata": {
    "collapsed": true
   },
   "outputs": [],
   "source": []
  },
  {
   "cell_type": "code",
   "execution_count": 27,
   "metadata": {
    "collapsed": true
   },
   "outputs": [],
   "source": [
    "# Solution goes here"
   ]
  },
  {
   "cell_type": "markdown",
   "metadata": {
    "collapsed": true
   },
   "source": [
    "**Exercise:** The numbers generated by `numpy.random.random` are supposed to be uniform between 0 and 1; that is, every value in the range should have the same probability.\n",
    "\n",
    "Generate 1000 numbers from `numpy.random.random` and plot their PMF.  What goes wrong?\n",
    "\n",
    "Now plot the CDF. Is the distribution uniform?"
   ]
  },
  {
   "cell_type": "code",
   "execution_count": 47,
   "metadata": {},
   "outputs": [],
   "source": [
    "import numpy\n",
    "s=numpy.random.random(1000)"
   ]
  },
  {
   "cell_type": "code",
   "execution_count": 51,
   "metadata": {},
   "outputs": [
    {
     "data": {
      "image/png": "iVBORw0KGgoAAAANSUhEUgAAAYoAAAD8CAYAAABpcuN4AAAABHNCSVQICAgIfAhkiAAAAAlwSFlz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\nkCQVGRSSpKL/D92iHr6w4MBIAAAAAElFTkSuQmCC\n",
      "text/plain": [
       "<Figure size 432x288 with 1 Axes>"
      ]
     },
     "metadata": {},
     "output_type": "display_data"
    }
   ],
   "source": [
    "rannie=thinkstats2.Pmf(s)\n",
    "thinkplot.Pmf(rannie)"
   ]
  },
  {
   "cell_type": "code",
   "execution_count": 49,
   "metadata": {},
   "outputs": [
    {
     "data": {
      "text/plain": [
       "{'xscale': 'linear', 'yscale': 'linear'}"
      ]
     },
     "execution_count": 49,
     "metadata": {},
     "output_type": "execute_result"
    },
    {
     "data": {
      "image/png": "iVBORw0KGgoAAAANSUhEUgAAAXcAAAD8CAYAAACMwORRAAAABHNCSVQICAgIfAhkiAAAAAlwSFlz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\nRUQi6P8BviPqvf0ogMUAAAAASUVORK5CYII=\n",
      "text/plain": [
       "<Figure size 432x288 with 1 Axes>"
      ]
     },
     "metadata": {},
     "output_type": "display_data"
    }
   ],
   "source": [
    "rannie=thinkstats2.Cdf(s)\n",
    "thinkplot.cdf(rannie)"
   ]
  },
  {
   "cell_type": "code",
   "execution_count": null,
   "metadata": {
    "collapsed": true
   },
   "outputs": [],
   "source": []
  }
 ],
 "metadata": {
  "kernelspec": {
   "display_name": "Python 3",
   "language": "python",
   "name": "python3"
  },
  "language_info": {
   "codemirror_mode": {
    "name": "ipython",
    "version": 3
   },
   "file_extension": ".py",
   "mimetype": "text/x-python",
   "name": "python",
   "nbconvert_exporter": "python",
   "pygments_lexer": "ipython3",
<<<<<<< HEAD
   "version": "3.6.3"
=======
   "version": "3.6.7"
>>>>>>> 92c88e52286effcece24d4370621890fc12ecb5a
  }
 },
 "nbformat": 4,
 "nbformat_minor": 1
}
